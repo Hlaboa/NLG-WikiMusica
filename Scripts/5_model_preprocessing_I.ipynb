{
 "cells": [
  {
   "cell_type": "markdown",
   "metadata": {},
   "source": [
    "# Imports"
   ]
  },
  {
   "cell_type": "code",
   "execution_count": null,
   "metadata": {
    "ExecuteTime": {
     "end_time": "2020-12-26T13:50:11.113033Z",
     "start_time": "2020-12-26T13:50:08.879027Z"
    }
   },
   "outputs": [],
   "source": [
    "import re\n",
    "from unicodedata import normalize\n",
    "import html\n",
    "\n",
    "from tqdm.notebook import tqdm\n",
    "tqdm.pandas()\n",
    "\n",
    "import pickle\n",
    "import gc\n",
    "from itertools import compress\n",
    "import pandas as pd\n",
    "import numpy as np\n",
    "\n",
    "import matplotlib.pyplot as plt\n",
    "\n",
    "from difflib import SequenceMatcher\n",
    "\n",
    "import nltk\n",
    "from nltk import SnowballStemmer\n",
    "\n",
    "import spacy\n",
    "nlp = spacy.load('es_core_news_sm')\n",
    "nlp.max_length = 3500000"
   ]
  },
  {
   "cell_type": "markdown",
   "metadata": {},
   "source": [
    "# Load articles"
   ]
  },
  {
   "cell_type": "code",
   "execution_count": null,
   "metadata": {
    "ExecuteTime": {
     "end_time": "2020-12-26T13:50:11.264885Z",
     "start_time": "2020-12-26T13:50:11.114402Z"
    }
   },
   "outputs": [],
   "source": [
    "df_wikimusica_short = pickle.load(open(\"../Data/df_wikimusica_short.p\", \"rb\"))\n",
    "df_wikimusica_short.reset_index(inplace=True)\n",
    "\n",
    "df_wikimusica_long = pickle.load(open(\"../Data/df_wikimusica_long.p\", \"rb\"))\n",
    "df_wikimusica_long.reset_index(inplace=True)"
   ]
  },
  {
   "cell_type": "code",
   "execution_count": null,
   "metadata": {
    "ExecuteTime": {
     "end_time": "2020-12-26T13:50:11.271334Z",
     "start_time": "2020-12-26T13:50:11.266662Z"
    }
   },
   "outputs": [],
   "source": [
    "df_wikimusica_short.text.iloc[0]"
   ]
  },
  {
   "cell_type": "code",
   "execution_count": null,
   "metadata": {
    "ExecuteTime": {
     "end_time": "2020-12-26T13:50:11.279427Z",
     "start_time": "2020-12-26T13:50:11.272803Z"
    }
   },
   "outputs": [],
   "source": [
    "df_wikimusica_long.text.iloc[0]"
   ]
  },
  {
   "cell_type": "code",
   "execution_count": null,
   "metadata": {
    "ExecuteTime": {
     "end_time": "2020-12-26T13:50:11.302926Z",
     "start_time": "2020-12-26T13:50:11.280582Z"
    }
   },
   "outputs": [],
   "source": [
    "df_wikimusica_short_fully_aligned = df_wikimusica_short.copy()"
   ]
  },
  {
   "cell_type": "code",
   "execution_count": null,
   "metadata": {
    "ExecuteTime": {
     "end_time": "2020-12-26T13:50:11.382505Z",
     "start_time": "2020-12-26T13:50:11.304343Z"
    }
   },
   "outputs": [],
   "source": [
    "df_wikimusica_short_softly_aligned = df_wikimusica_short.copy()\n",
    "df_wikimusica_short_fully_aligned = df_wikimusica_short.copy()\n",
    "\n",
    "####\n",
    "\n",
    "df_wikimusica_long_softly_aligned = df_wikimusica_long.copy()\n",
    "df_wikimusica_long_fully_aligned = df_wikimusica_long.copy()"
   ]
  },
  {
   "cell_type": "markdown",
   "metadata": {},
   "source": [
    "___"
   ]
  },
  {
   "cell_type": "markdown",
   "metadata": {},
   "source": [
    "____"
   ]
  },
  {
   "cell_type": "markdown",
   "metadata": {},
   "source": [
    "# Functions"
   ]
  },
  {
   "cell_type": "code",
   "execution_count": null,
   "metadata": {
    "ExecuteTime": {
     "end_time": "2020-12-26T13:50:11.403039Z",
     "start_time": "2020-12-26T13:50:11.383884Z"
    }
   },
   "outputs": [],
   "source": [
    "def check_alignment(attr_value:str, text:str, strict, stemm=False):\n",
    "    \n",
    "    spanishstemmer =SnowballStemmer('spanish')\n",
    "    \n",
    "    match_l = list()\n",
    "    attr_value = attr_value.split('::')[-1]\n",
    "    attr_doc = nlp(attr_value)\n",
    "    text_doc = nlp(text)\n",
    "    \n",
    "    for attr_t in attr_doc: \n",
    "        if (attr_t.is_punct) | (attr_t.is_space) | (attr_t.is_stop):\n",
    "            \n",
    "                if strict:\n",
    "                    match=True\n",
    "                else:\n",
    "                    match=False\n",
    "                    \n",
    "                continue\n",
    "                \n",
    "        if strict:\n",
    "            match=True\n",
    "        else:\n",
    "            match=False\n",
    "            \n",
    "        for token in text_doc:\n",
    "            if (token.is_punct) | (token.is_space) | (token.is_stop):\n",
    "                continue\n",
    "            else:\n",
    "                \n",
    "                if stemm:\n",
    "                    t = token.text_with_ws.lower().strip()\n",
    "                    t2 = attr_t.text_with_ws.lower().strip()\n",
    "                else:\n",
    "                    t = spanishstemmer.stem(token.text_with_ws.lower().strip())\n",
    "                    t2 = spanishstemmer.stem(attr_t.text_with_ws.lower().strip())                    \n",
    "                \n",
    "                similarity = SequenceMatcher(None, t, t2).ratio()\n",
    "                \n",
    "                if similarity>0.7:\n",
    "\n",
    "                    if strict:\n",
    "                        match=False\n",
    "                    else:\n",
    "                        match=True\n",
    "                        \n",
    "                    break\n",
    "        \n",
    "        match_l.append(match)\n",
    "    \n",
    "    if strict:\n",
    "        if(sum(match_l)==0):\n",
    "            return True\n",
    "        else:\n",
    "            return False\n",
    "    else:\n",
    "        if(sum(match_l)!=0):\n",
    "            return True\n",
    "        else:\n",
    "            return False\n",
    "\n",
    "        \n",
    "####\n",
    "\n",
    "def check_row_alignment(row, text_name='text', strict=True, stemm=False):\n",
    "    \n",
    "    text = row[text_name]\n",
    "    attr = row['value']\n",
    "\n",
    "    return check_alignment(attr_value=attr, text=text, strict=strict, stemm=stemm)\n",
    "\n",
    "\n",
    "####\n",
    "\n",
    "def check_multinstrumentista(text: str):\n",
    "    m = text.find('multinstrumentista')\n",
    "    if m!=-1:\n",
    "        return True\n",
    "    else:\n",
    "        m = text.find('multiinstrumentista')\n",
    "        if m!=-1:\n",
    "            return True\n",
    "        else:\n",
    "            return False\n",
    "        \n",
    "\n",
    "####\n",
    "                \n",
    "def process_alignment(df, attr_list, strict=True, stemm=False, text_name='text'):\n",
    "    \n",
    "    for attr in attr_list:\n",
    "        data_filt = df[df['variable']==attr]\n",
    "\n",
    "        if stemm:\n",
    "            data_filt['stemm_text'] = data_filt['text'].progress_apply(lambda s: s.replace('vocalista','voz')\n",
    "                                                                                  .replace('cantante','voz')\n",
    "                                                                                  .replace('ista',''))\n",
    "            text_name = 'stemm_text'\n",
    "        \n",
    "        \n",
    "        data_filt[attr + '_aligned'] = data_filt.progress_apply(check_row_alignment,\n",
    "                                                                axis='columns',\n",
    "                                                                strict=strict,\n",
    "                                                                stemm=stemm,\n",
    "                                                                text_name=text_name)   \n",
    "            \n",
    "        if stemm:\n",
    "            data_filt.drop(columns=['stemm_text'], inplace=True)\n",
    "            \n",
    "        if attr=='instrumento':\n",
    "            mask_is_multi = data_filt['text'].progress_apply(check_multinstrumentista)\n",
    "            data_filt[attr + '_aligned'] = np.where(mask_is_multi, True, data_filt[attr + '_aligned'])\n",
    "        \n",
    "        \n",
    "        data_filt = data_filt.filter(['index', attr + '_aligned'])\n",
    "        df = df.merge(data_filt, 'left', 'index')\n",
    "        \n",
    "        print(f'Initial Shape: ',df.shape[0])\n",
    "        print('----')\n",
    "        print(attr)\n",
    "        mask = (df[attr + '_aligned']==False)\n",
    "        df = df[~mask]\n",
    "        print(f'Shape: ',df.shape[0])\n",
    "        \n",
    "    return df\n",
    "\n",
    "\n",
    "#####\n",
    "\n",
    "\n",
    "def discard_artists_4attr(df):\n",
    "\n",
    "    print(f'\\nInitial Shape: ',df.shape[0])\n",
    "    print('----')\n",
    "        \n",
    "    data_filt = pd.DataFrame(df.groupby('_id_').count()['index']).rename(columns={'index': '#_attr'})\n",
    "\n",
    "    for i in range(1,4):\n",
    "        list_id = data_filt[data_filt['#_attr']==i].reset_index()['_id_'].tolist()\n",
    "        _id_list = df['_id_'].isin(list_id)\n",
    "        df = df[~_id_list]\n",
    "        print(f'Shape: ',df.shape[0])\n",
    "        \n",
    "    return df\n",
    "\n",
    "####\n",
    "\n",
    "def save_dataset(df, name):\n",
    "    \n",
    "    df = df.filter(['_id_', '_titulo_', '_url_', 'variable', 'value', 'text']).reset_index(drop=True)\n",
    "    pickle.dump(df, open( \"../Data/\"+name+\".p\", \"wb\"))\n",
    "    print('dataset saved!')\n",
    "    \n",
    "####"
   ]
  },
  {
   "cell_type": "markdown",
   "metadata": {},
   "source": [
    "____"
   ]
  },
  {
   "cell_type": "markdown",
   "metadata": {},
   "source": [
    "# Alignment parameters"
   ]
  },
  {
   "cell_type": "code",
   "execution_count": null,
   "metadata": {
    "ExecuteTime": {
     "end_time": "2020-12-26T13:50:11.413241Z",
     "start_time": "2020-12-26T13:50:11.404886Z"
    }
   },
   "outputs": [],
   "source": [
    "## SOFT ALIGNMENT\n",
    "\n",
    "soft_attrs_fully_aligned = [\n",
    "    'nombre artistico',\n",
    "    'nombre nacimiento',\n",
    "    'ocupacion',\n",
    "    'nacimiento lugar',\n",
    "    #'nacimiento fecha',\n",
    "    'fallecimiento lugar',\n",
    "    #'fallecimiento fecha',\n",
    "    'fallecimiento causa',\n",
    "    'residencia',\n",
    "    'pareja',\n",
    "    'pareja periodo',\n",
    "    'conyugue',\n",
    "    'conyugue periodo',\n",
    "    'conyugue razon fin',\n",
    "    'progenitor',\n",
    "    'hijo/a',\n",
    "    'hermano/a',\n",
    "    'grupo',\n",
    "    'instrumento modelo',\n",
    "    'premio año',\n",
    "    'tipo voz',\n",
    "    'idioma',\n",
    "    #'genero',\n",
    "    'sello',\n",
    "    'sello periodo',\n",
    "    'disco año',\n",
    "    'single año',\n",
    "    'estudios',\n",
    "    'maestro/a',\n",
    "    'alumno/a',\n",
    "]\n",
    "\n",
    "soft_attrs_softly_aligned = [\n",
    "    'nacionalidad',           # soft\n",
    "    'premio',                 # soft\n",
    "    'disco',                  # soft\n",
    "    'single',                 # soft\n",
    "    'religion',               # soft\n",
    "    'actividad',              # soft\n",
    "]\n",
    "\n",
    "soft_attrs_stemm_aligned = [\n",
    "    'instrumento'             # stemmization alignment\n",
    "]"
   ]
  },
  {
   "cell_type": "code",
   "execution_count": null,
   "metadata": {
    "ExecuteTime": {
     "end_time": "2020-12-26T13:50:11.420701Z",
     "start_time": "2020-12-26T13:50:11.414989Z"
    }
   },
   "outputs": [],
   "source": [
    "## FULL ALIGNMENT\n",
    "\n",
    "full_attrs_fully_aligned = [\n",
    "    'nombre artistico',\n",
    "    'nombre nacimiento',\n",
    "    'ocupacion',\n",
    "    'nacimiento lugar',\n",
    "    'nacimiento fecha',\n",
    "    'nacionalidad',\n",
    "    'fallecimiento lugar',\n",
    "    'fallecimiento fecha',\n",
    "    'fallecimiento causa', \n",
    "    'residencia',\n",
    "    'pareja',\n",
    "    'pareja periodo',\n",
    "    'conyugue',\n",
    "    'conyugue periodo',\n",
    "    'conyugue razon fin',\n",
    "    'progenitor',\n",
    "    'hijo/a',\n",
    "    'hermano/a',\n",
    "    'grupo',\n",
    "    'instrumento modelo',\n",
    "    'premio',\n",
    "    'premio año',\n",
    "    'tipo voz',\n",
    "    'idioma',\n",
    "    'sello',\n",
    "    'sello periodo',\n",
    "    'disco',\n",
    "    'disco año',\n",
    "    'single',\n",
    "    'single año',\n",
    "    'estudios',\n",
    "    'maestro/a',\n",
    "    'alumno/a',\n",
    "]\n",
    "  \n",
    "full_attrs_softly_aligned = [\n",
    "    'actividad',                # --       # split/full alignment \n",
    "]\n",
    "\n",
    "full_attrs_stemm_aligned = [\n",
    "    'genero',\n",
    "    'instrumento'               # stemmization alignment\n",
    "]"
   ]
  },
  {
   "cell_type": "markdown",
   "metadata": {},
   "source": [
    "___"
   ]
  },
  {
   "cell_type": "markdown",
   "metadata": {},
   "source": [
    "_____"
   ]
  },
  {
   "cell_type": "markdown",
   "metadata": {},
   "source": [
    "# Model preprocessing"
   ]
  },
  {
   "cell_type": "markdown",
   "metadata": {},
   "source": [
    "## df_wikimusica_short_softly_aligned"
   ]
  },
  {
   "cell_type": "code",
   "execution_count": null,
   "metadata": {
    "ExecuteTime": {
     "end_time": "2020-12-26T13:50:23.270186Z",
     "start_time": "2020-12-26T13:50:11.422234Z"
    }
   },
   "outputs": [],
   "source": [
    "%%time\n",
    "\n",
    "df_wikimusica_short_softly_aligned = process_alignment(df_wikimusica_short_softly_aligned,\n",
    "                                                       soft_attrs_fully_aligned)\n",
    "\n",
    "df_wikimusica_short_softly_aligned = process_alignment(df_wikimusica_short_softly_aligned,\n",
    "                                                       soft_attrs_softly_aligned, strict=False)\n",
    "\n",
    "df_wikimusica_short_softly_aligned = process_alignment(df_wikimusica_short_softly_aligned,\n",
    "                                                       soft_attrs_stemm_aligned, stemm=True)\n",
    "\n",
    "df_wikimusica_short_softly_aligned = discard_artists_4attr(df_wikimusica_short_softly_aligned)\n",
    "\n",
    "save_dataset(df_wikimusica_short_softly_aligned, 'df_wikimusica_short_softly_aligned')"
   ]
  },
  {
   "cell_type": "markdown",
   "metadata": {},
   "source": [
    "____"
   ]
  },
  {
   "cell_type": "markdown",
   "metadata": {},
   "source": [
    "## df_wikimusica_short_fully_aligned"
   ]
  },
  {
   "cell_type": "code",
   "execution_count": null,
   "metadata": {
    "ExecuteTime": {
     "end_time": "2020-12-26T13:50:23.275033Z",
     "start_time": "2020-12-26T13:50:09.073Z"
    }
   },
   "outputs": [],
   "source": [
    "%%time\n",
    "\n",
    "df_wikimusica_short_fully_aligned = process_alignment(df_wikimusica_short_fully_aligned,\n",
    "                                                       full_attrs_fully_aligned)\n",
    "\n",
    "df_wikimusica_short_fully_aligned = process_alignment(df_wikimusica_short_fully_aligned,\n",
    "                                                       full_attrs_softly_aligned, strict=False)\n",
    "\n",
    "df_wikimusica_short_fully_aligned = process_alignment(df_wikimusica_short_fully_aligned,\n",
    "                                                       full_attrs_stemm_aligned, stemm=True)\n",
    "\n",
    "df_wikimusica_short_fully_aligned = discard_artists_4attr(df_wikimusica_short_fully_aligned)\n",
    "\n",
    "save_dataset(df_wikimusica_short_fully_aligned, 'df_wikimusica_short_fully_aligned')"
   ]
  },
  {
   "cell_type": "markdown",
   "metadata": {},
   "source": [
    "____"
   ]
  },
  {
   "cell_type": "markdown",
   "metadata": {},
   "source": [
    "## df_wikimusica_long_softly_aligned"
   ]
  },
  {
   "cell_type": "code",
   "execution_count": null,
   "metadata": {
    "ExecuteTime": {
     "end_time": "2020-12-26T13:50:23.275636Z",
     "start_time": "2020-12-26T13:50:09.111Z"
    }
   },
   "outputs": [],
   "source": [
    "%%time\n",
    "\n",
    "df_wikimusica_long_softly_aligned = process_alignment(df_wikimusica_long_softly_aligned,\n",
    "                                                       soft_attrs_fully_aligned)\n",
    "\n",
    "df_wikimusica_long_softly_aligned = process_alignment(df_wikimusica_long_softly_aligned,\n",
    "                                                       soft_attrs_softly_aligned, strict=False)\n",
    "\n",
    "df_wikimusica_long_softly_aligned = process_alignment(df_wikimusica_long_softly_aligned,\n",
    "                                                       soft_attrs_stemm_aligned, stemm=True)\n",
    "\n",
    "df_wikimusica_long_softly_aligned = discard_artists_4attr(df_wikimusica_long_softly_aligned)\n",
    "\n",
    "save_dataset(df_wikimusica_long_softly_aligned, 'df_wikimusica_long_softly_aligned')"
   ]
  },
  {
   "cell_type": "markdown",
   "metadata": {},
   "source": [
    "____"
   ]
  },
  {
   "cell_type": "markdown",
   "metadata": {},
   "source": [
    "## df_wikimusica_long_fully_aligned"
   ]
  },
  {
   "cell_type": "code",
   "execution_count": null,
   "metadata": {
    "ExecuteTime": {
     "end_time": "2020-12-26T13:50:23.276186Z",
     "start_time": "2020-12-26T13:50:09.141Z"
    }
   },
   "outputs": [],
   "source": [
    "%%time\n",
    "\n",
    "df_wikimusica_long_fully_aligned = process_alignment(df_wikimusica_long_fully_aligned,\n",
    "                                                       full_attrs_fully_aligned)\n",
    "\n",
    "df_wikimusica_long_fully_aligned = process_alignment(df_wikimusica_long_fully_aligned,\n",
    "                                                       full_attrs_softly_aligned, strict=False)\n",
    "\n",
    "df_wikimusica_long_fully_aligned = process_alignment(df_wikimusica_long_fully_aligned,\n",
    "                                                       full_attrs_stemm_aligned, stemm=True)\n",
    "\n",
    "df_wikimusica_long_fully_aligned = discard_artists_4attr(df_wikimusica_long_fully_aligned)\n",
    "\n",
    "save_dataset(df_wikimusica_long_fully_aligned, 'df_wikimusica_long_fully_aligned')"
   ]
  },
  {
   "cell_type": "markdown",
   "metadata": {},
   "source": [
    "_____"
   ]
  }
 ],
 "metadata": {
  "kernelspec": {
   "display_name": "Python 3",
   "language": "python",
   "name": "python3"
  },
  "language_info": {
   "codemirror_mode": {
    "name": "ipython",
    "version": 3
   },
   "file_extension": ".py",
   "mimetype": "text/x-python",
   "name": "python",
   "nbconvert_exporter": "python",
   "pygments_lexer": "ipython3",
   "version": "3.7.4"
  },
  "toc": {
   "base_numbering": 1,
   "nav_menu": {},
   "number_sections": true,
   "sideBar": true,
   "skip_h1_title": false,
   "title_cell": "Table of Contents",
   "title_sidebar": "Contents",
   "toc_cell": false,
   "toc_position": {},
   "toc_section_display": true,
   "toc_window_display": false
  }
 },
 "nbformat": 4,
 "nbformat_minor": 2
}
