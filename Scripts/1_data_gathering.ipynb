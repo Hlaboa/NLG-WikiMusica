{
 "cells": [
  {
   "cell_type": "markdown",
   "metadata": {},
   "source": [
    "# Imports"
   ]
  },
  {
   "cell_type": "code",
   "execution_count": 1,
   "metadata": {
    "ExecuteTime": {
     "end_time": "2020-12-08T21:07:34.225704Z",
     "start_time": "2020-12-08T21:07:34.215693Z"
    }
   },
   "outputs": [],
   "source": [
    "import pickle\n",
    "from tqdm.notebook import tqdm\n",
    "\n",
    "import re\n",
    "import gc\n",
    "import multiprocessing as mp\n",
    "import os"
   ]
  },
  {
   "cell_type": "markdown",
   "metadata": {},
   "source": [
    "# Load articles"
   ]
  },
  {
   "cell_type": "code",
   "execution_count": 2,
   "metadata": {
    "ExecuteTime": {
     "end_time": "2020-12-08T21:09:00.450863Z",
     "start_time": "2020-12-08T21:07:34.229401Z"
    }
   },
   "outputs": [],
   "source": [
    "def load_data(wiki_text_file: str):\n",
    "    \n",
    "    '''This function loads the text file that contains all the Spanish Wikipedia Articles'''\n",
    "    \n",
    "    lines = []\n",
    "    for line in open(wiki_file):\n",
    "        lines.append(line)\n",
    "    data = ''.join(lines)\n",
    "    \n",
    "    return data\n",
    "\n",
    "#####\n",
    "\n",
    "\n",
    "wiki_file = '../DATA/eswiki-20200601-pages-articles-multistream.txt'\n",
    "data_raw = load_data(wiki_file)"
   ]
  },
  {
   "cell_type": "markdown",
   "metadata": {},
   "source": [
    "# Split articles"
   ]
  },
  {
   "cell_type": "code",
   "execution_count": 3,
   "metadata": {
    "ExecuteTime": {
     "end_time": "2020-12-08T21:09:16.262924Z",
     "start_time": "2020-12-08T21:09:00.453225Z"
    }
   },
   "outputs": [
    {
     "name": "stdout",
     "output_type": "stream",
     "text": [
      "Total # of Spanish Wikipedia articles: 3928922\n"
     ]
    }
   ],
   "source": [
    "data_wiki_articles = data_raw.split('<page>')\n",
    "print(f'Total # of Spanish Wikipedia articles: {len(data_wiki_articles)}')"
   ]
  },
  {
   "cell_type": "markdown",
   "metadata": {},
   "source": [
    "# Filter articles"
   ]
  },
  {
   "cell_type": "code",
   "execution_count": 4,
   "metadata": {
    "ExecuteTime": {
     "end_time": "2020-12-08T21:09:54.066382Z",
     "start_time": "2020-12-08T21:09:16.264626Z"
    }
   },
   "outputs": [
    {
     "name": "stdout",
     "output_type": "stream",
     "text": [
      "Total # of Spanish Wikipedia Musical Artists articles: 26807\n"
     ]
    }
   ],
   "source": [
    "patterns = ['{{Ficha de artista musical', '|Discográfica', '|discográfica',\n",
    "            '|voz', '|compañía discográfica', '|instrumento']\n",
    "data_artists_articles = [pat for pat in data_wiki_articles if any(p in pat for p in patterns)]\n",
    "\n",
    "patterns = ['{{Ficha de persona', '{{Ficha de artista musical']\n",
    "data_artists_articles = [pat for pat in data_artists_articles if any(p in pat for p in patterns)]\n",
    "\n",
    "patterns = ['{{Ficha de personaje']\n",
    "data_artists_articles = [pat for pat in data_artists_articles if not any(p in pat for p in patterns)]\n",
    "\n",
    "\n",
    "print(f'Total # of Spanish Wikipedia Musical Artists articles: {len(data_artists_articles)}')\n",
    "\n",
    "del data_raw\n",
    "del data_wiki_articles\n",
    "\n",
    "gc.collect();"
   ]
  },
  {
   "cell_type": "markdown",
   "metadata": {},
   "source": [
    "# Extract article parts"
   ]
  },
  {
   "cell_type": "code",
   "execution_count": 5,
   "metadata": {
    "ExecuteTime": {
     "end_time": "2020-12-08T21:09:59.219547Z",
     "start_time": "2020-12-08T21:09:54.068556Z"
    }
   },
   "outputs": [
    {
     "data": {
      "application/vnd.jupyter.widget-view+json": {
       "model_id": "e485974e58684ef2a8a91e31f37a0567",
       "version_major": 2,
       "version_minor": 0
      },
      "text/plain": [
       "HBox(children=(HTML(value=''), FloatProgress(value=0.0, max=26807.0), HTML(value='')))"
      ]
     },
     "metadata": {},
     "output_type": "display_data"
    },
    {
     "name": "stdout",
     "output_type": "stream",
     "text": [
      "\n"
     ]
    }
   ],
   "source": [
    "def extract_header_and_body(data: list):\n",
    "\n",
    "    '''This function extracts the article itself and the title of it'''\n",
    "    \n",
    "    data_artists = list()\n",
    "    \n",
    "    title_pattern = r'<title>[\\s\\S]*?</title>'\n",
    "    id_pattern = r'<id>[\\s\\S]*?</id>'\n",
    "    \n",
    "    full_body_pattern = r'<text[\\s\\S]*?>[\\s\\S]*?</text>'\n",
    "    body_pattern = r'<text[\\s\\S]*?>'\n",
    "    \n",
    "    \n",
    "    with tqdm(total=len(data)) as pbar:\n",
    "        \n",
    "        for d in data:\n",
    "\n",
    "            data_artist = dict()\n",
    "            \n",
    "            data_artist['_titulo_'] = re.search(title_pattern, d).group()[7:-8]\n",
    "            data_artist['_id_'] = re.search(id_pattern, d).group()[4:-5]\n",
    "            \n",
    "            full_body = re.search(full_body_pattern, d).group()\n",
    "            body_header = re.search(body_pattern, full_body).group()\n",
    "            data_artist['body'] = full_body.split(body_header)[1]\n",
    "            data_artist['body'] = data_artist['body'].split('</text>')[0]\n",
    "            \n",
    "            data_artists.append(data_artist)\n",
    "            pbar.update(1)\n",
    "        \n",
    "    return data_artists\n",
    "\n",
    "#####\n",
    "\n",
    "\n",
    "data = extract_header_and_body(data_artists_articles)"
   ]
  },
  {
   "cell_type": "markdown",
   "metadata": {},
   "source": [
    "# Manual cleaning"
   ]
  },
  {
   "cell_type": "code",
   "execution_count": 16,
   "metadata": {
    "ExecuteTime": {
     "end_time": "2020-12-08T21:16:42.798942Z",
     "start_time": "2020-12-08T21:16:42.703905Z"
    }
   },
   "outputs": [
    {
     "data": {
      "application/vnd.jupyter.widget-view+json": {
       "model_id": "14ba362295764336a8cb3f7daa924118",
       "version_major": 2,
       "version_minor": 0
      },
      "text/plain": [
       "HBox(children=(HTML(value=''), FloatProgress(value=0.0, max=26789.0), HTML(value='')))"
      ]
     },
     "metadata": {},
     "output_type": "display_data"
    },
    {
     "name": "stdout",
     "output_type": "stream",
     "text": [
      "\n"
     ]
    }
   ],
   "source": [
    "def clean_particular_cases(data):\n",
    "\n",
    "    '''This function cleans certain articles that aren't properly structured'''\n",
    "        \n",
    "    with tqdm(total=len(data)) as pbar:\n",
    "        for d in data:\n",
    "            if d['_titulo_']=='Daniela Carpio':\n",
    "                d['body'] = d['body'].replace('{{{{',\n",
    "                                                   '{{')\n",
    "\n",
    "            elif d['_titulo_']=='Ski Mask the Slump God':\n",
    "                d['body'] = d['body'].replace('* escritor de canciones',\n",
    "                                              '* escritor de canciones}}')\n",
    "\n",
    "            elif d['_titulo_']=='Marcus &amp; Martinus':\n",
    "                d['body'] = d['body'].replace('marcusandmartinus.com/',\n",
    "                                              'marcusandmartinus.com/]]')\n",
    "\n",
    "            elif d['_titulo_']=='Virgil Popa':\n",
    "                d['body'] = d['body'].replace('Virgil Popa.jpg',\n",
    "                                              'Virgil Popa.jpg}}')\n",
    "\n",
    "            elif d['_titulo_']=='Rangel':\n",
    "                d['body'] = d['body'].replace('= [[elcartelurbano]],',\n",
    "                                              '= [[elcartelurbano]]}}')\n",
    "\n",
    "            elif d['_titulo_']=='Jennifer Holliday':\n",
    "                d['body'] = d['body'].replace('10|1960|edad',\n",
    "                                              '10|1960|edad}}')\n",
    "\n",
    "            elif d['_titulo_']=='Infinite (grupo musical)':\n",
    "                d['body'] = d['body'].replace('[[Hoya (Cantante)|Hoya]]',\n",
    "                                              '[[Hoya (Cantante)|Hoya]]}}')\n",
    "\n",
    "            elif d['_titulo_']=='Coro de la Generalidad Valenciana':\n",
    "                d['body'] = d['body'].replace('[[Francisco Hervás]]&lt;br /&gt;',\n",
    "                                              '[[Francisco Hervás]]&lt;br /&gt;}}')\n",
    "\n",
    "            elif d['_titulo_']=='Boddega':\n",
    "                d['body'] = d['body'].replace('Roberto Jijón, Carlos del Campo',\n",
    "                                              'Roberto Jijón, Carlos del Campo}}')\n",
    "\n",
    "            elif d['_titulo_']=='Andrea Bocelli':\n",
    "                d['body'] = d['body'].replace('|idioma=español{{',\n",
    "                                              '|idioma=español}}')\n",
    "                \n",
    "            elif d['_titulo_']=='V8 (banda)':\n",
    "                d['body'] = d['body'].replace('br[[Almafuerte]]',\n",
    "                                              'br>[[Almafuerte]]')  \n",
    "                \n",
    "            elif d['_titulo_']=='Panzer (banda española)':\n",
    "                d['body'] = d['body'].replace('[[Chapa',\n",
    "                                              'Chapa')\n",
    "                \n",
    "            elif d['_titulo_']=='Jeon So-mi':\n",
    "                d['body'] = d['body'].replace('[[Twice]',\n",
    "                                              '[[Twice]]')    \n",
    "\n",
    "            elif d['_titulo_']=='Ville Valo':\n",
    "                d['body'] = d['body'].replace('|Género:',\n",
    "                                              '|Género =')\n",
    "                d['body'] = d['body'].replace('|Años activo:',\n",
    "                                              '|Años activo =')\n",
    "                \n",
    "            elif d['_titulo_']=='Shakira':\n",
    "                d['body'] = d['body'].replace('nacionalidad    [[colombiana]]',\n",
    "                                              'nacionalidad =   [[colombiana]]')\n",
    "            \n",
    "            elif d['_titulo_']=='Mark Kozelek':\n",
    "                d['body'] = d['body'].replace('nombre de nacimientol',\n",
    "                                              'nombre de nacimiento')\n",
    "                \n",
    "            elif d['_titulo_']=='T-Bone (rapero)':\n",
    "                d['body'] = d['body'].replace('nombre de nacimientol',\n",
    "                                              'nombre de nacimiento')\n",
    "            \n",
    "            elif d['_titulo_']=='Juan y Junior':\n",
    "                d['body'] = d['body'].replace('|Nacimiento: ',\n",
    "                                              '|Nacimiento= ')\n",
    "            \n",
    "            elif d['_titulo_']=='Yurena':\n",
    "                d['body'] = d['body'].replace('lugar de nacimiento [[Santurce]]',\n",
    "                                              'lugar de nacimiento = [[Santurce]]')\n",
    "            \n",
    "            elif d['_titulo_']=='Tobias Sammet':\n",
    "                d['body'] = d['body'].replace('años activo:',\n",
    "                                              'años activo=')\n",
    "            \n",
    "            elif d['_titulo_']=='Jacoby Shaddix':\n",
    "                d['body'] = d['body'].replace('|Años activo:',\n",
    "                                              '|Años activo=')\n",
    "            \n",
    "            elif d['_titulo_']=='Henkka Seppälä':\n",
    "                d['body'] = d['body'].replace('|ocupación [[',\n",
    "                                              '|ocupación = [[')\n",
    "                \n",
    "            elif d['_titulo_']=='Amaya Saizar':\n",
    "                d['body'] = d['body'].replace('|lugar de nacimiento País Vasco',\n",
    "                                              '|lugar de nacimiento = País Vasco')\n",
    "              \n",
    "            elif d['_titulo_']=='The Age of Information':\n",
    "                d['body'] = d['body'].replace('| Estilo           - ',\n",
    "                                              '| Estilo           =')\n",
    "                \n",
    "            elif d['_titulo_']=='Janne Puurtinen':\n",
    "                d['body'] = d['body'].replace('|Años activo:',\n",
    "                                              '|Años activo=')\n",
    "            \n",
    "            elif d['_titulo_']=='Víctor García (cantante)':\n",
    "                d['body'] = d['body'].replace('|lugar de nacimiento ',\n",
    "                                              '|lugar de nacimiento=')\n",
    "            \n",
    "            elif d['_titulo_']=='Orianthi Panagaris':\n",
    "                d['body'] = d['body'].replace('pareja\\n',\n",
    "                                              'pareja=')\n",
    "\n",
    "            elif d['_titulo_']=='Michael Romeo':\n",
    "                d['body'] = d['body'].replace('|Género:',\n",
    "                                              '|Género=')\n",
    "            \n",
    "            elif d['_titulo_']=='Dj Paul Elstak':\n",
    "                d['body'] = d['body'].replace('|género',\n",
    "                                              '|género=')\n",
    "            \n",
    "            elif d['_titulo_']=='Roy Khan':\n",
    "                d['body'] = d['body'].replace('|&lt;nowiki&gt;[&lt;/nowiki&gt;|Nombre_de_nacimiento',\n",
    "                                              '|Nombre_de_nacimiento')\n",
    "            \n",
    "            elif d['_titulo_']=='Fenriz':\n",
    "                d['body'] = d['body'].replace('|&lt;nowiki&gt;[&lt;/nowiki&gt;|Nombre_de_nacimiento',\n",
    "                                              '|Nombre_de_nacimiento')\n",
    "            \n",
    "            elif d['_titulo_']=='Patryk Dominik Sztyber':\n",
    "                d['body'] = d['body'].replace('|&lt;nowiki&gt;[&lt;/nowiki&gt;|Nombre_de_nacimiento',\n",
    "                                              '|Nombre_de_nacimiento')\n",
    "            \n",
    "            elif d['_titulo_']=='Derek Roddy':\n",
    "                d['body'] = d['body'].replace('|&lt;nowiki&gt;[&lt;/nowiki&gt;|Nombre_de_nacimiento',\n",
    "                                              '|Nombre_de_nacimiento')\n",
    "                \n",
    "                \n",
    "            pbar.update(1)\n",
    "            \n",
    "    return data\n",
    "\n",
    "#####\n",
    "\n",
    "\n",
    "data = clean_particular_cases(data)"
   ]
  },
  {
   "cell_type": "code",
   "execution_count": 15,
   "metadata": {
    "ExecuteTime": {
     "end_time": "2020-12-08T21:16:30.422136Z",
     "start_time": "2020-12-08T21:16:30.414968Z"
    }
   },
   "outputs": [
    {
     "name": "stdout",
     "output_type": "stream",
     "text": [
      "{{Ficha de persona\n",
      "|nombre = Derek Roddy\n",
      "|imagen = \n",
      "|tamaño de imagen = \n",
      "|pie de imagen = \n",
      "|&lt;nowiki&gt;[&lt;/nowiki&gt;|Nombre_de_nacimiento = Derek Roddy\n",
      "|alias = One Take\n",
      "|fecha de nacimiento = Carolina de Sur, {{bandera|Estados Unidos}} {{edad|28|08|1972}}\n",
      "|fecha de fallecimiento = \n",
      "|instrumento = [[batería (instrumento musical)|batería]]\n",
      "|género = [[Death metal]], [[blues]], [[jazz]]\n",
      "|ocupación = [[Baterista]]\n",
      "|años activo = [[1977]] - presente\n",
      "|compañía discográfica = [[Pavement Records|Pavement]], Nightsky, Olympic, [[Relapse Records|Relapse]], Martyr, [[Karmageddon Media|Hammerheart]], [[Earache Records|Earache]]\n",
      "|relacionados = [[Aurora Borealis]]&lt;br /&gt;[[Council of the Fallen]]&lt;br /&gt;[[Divine Empire]]&lt;br /&gt;[[Hate Eternal]]&lt;br /&gt;[[Malevolent Creation]]&lt;br /&gt;[[Nile]]&lt;br /&gt;[[Serpent's Rise]]&lt;br /&gt;[[Today Is the Day]]&lt;br /&gt;[[Traumedy]]\n",
      "|página web = [http://www.derekroddy.com/ www.derekroddy.com]\n",
      "}}\n",
      "\n",
      "'''Derek &quot;One Take&quot; Roddy''' es una baterista norteamericano, originario de Carolina del Sur.&lt;ref name=&quot;meinlcymbals.com&quot;&gt;{{cita web|url=http://www.meinlcymbals.com/artists/artist/ARTIST/derek_roddy.html?cHash=c1a9e3b46c|título=Derek Roddy profile|obra=[[Meinl Percussion|Meinl Cymbals]]|editorial=Roland Meinl Musikinstrumente GmbH &amp; Co. KG|fechaacceso=5 de septiembre de 2009|urlarchivo=http://web.archive.org/web/http://www.meinlcymbals.com/artists/artist/ARTIST/derek_roddy.html?cHash=c1a9e3b46c|fechaarchivo=24 de noviembre de 2015}}&lt;/ref&gt;\n",
      "\n",
      "== Biografía ==\n",
      "\n",
      "Él ha sido conocido por haber participado en [[Hate Eternal]], también ha tocado con las bandas [[Nile]], [[Malevolent Creation]], [[Divine Empire]], [[Council of the Fallen]], [[Today Is the Day]], [[Traumedy]] y [[Aurora Borealis]].  El 28 de marzo de 2006, Derek Roddy anunció su salida de [[Hate Eternal]] y&lt;ref&gt;[http://www.drummerworld.com/drummers/Derek_Roddy.html Drummerworld: Derek Roddy&lt;!-- Bot generated title --&gt;]&lt;/ref&gt;un mes antes, Roddy se integró como nuevo miembro a [[Blotted Science]], pero nunca se vio material grabado por conflictos internos. [[Chris Adler]], baterista de [[Lamb of God]], fue también considerado como un miembro para el proyecto, y en 2011 fue elegido para las audiciones de [[Dream Theater]] para sustituir a [[Mike Portnoy]]&lt;ref&gt;[http://www.metalunderground.com/bands/details.cfm?bandid=3783 Blotted Science @ MetalUnderground.com]&lt;/ref&gt;\n",
      "\n",
      "Roddy es conocido por su técnica &quot;radicalmente&quot; rápida y refinada a la hora de tocar la batería. El creció rodeado por una familia amante de la música, además haber adquirido todos sus conocimientos de forma autodidacta.{{Cita requerida|date=March 2009}}{{Cita requerida|date=March 2009}}{{Cita requerida|date=March 2009}}\n",
      "\n",
      "La carrera musical de Roddy se extiende más allá de ser un simple músico de Heavy Metal ya que se ha enfocado a ser un baterista de clínica.\n",
      "\n",
      "== Discografía&lt;ref&gt;[http://www.derekroddy.com/ Discography taken from his official website]&lt;/ref&gt; ==\n",
      ";con [[Aurora Borealis]]\n",
      "* [[Praise The Archaic Light's Embrace]] (1998)\n",
      "* [[Northern Lights (álbum de Aurora Borealis)|Northern Lights]] (2000)\n",
      "* [[Northern Lights: DieHard Release]] (2001)\n",
      "\n",
      ";con With [[Council Of The Fallen]]\n",
      "* Demo (1999)\n",
      "* [[Revealing Damnation]] (2002)\n",
      "\n",
      ";con [[Creature]]\n",
      "* Demo (1997)\n",
      "\n",
      ";con [[Deboning Method]]\n",
      "* Demo (1992)\n",
      "* Cold Demo (1993)\n",
      "\n",
      ";con [[Divine Empire]]\n",
      "* [[Redemption (álbum)|Redemption]] (1998)\n",
      "\n",
      ";con [[Gothic Outcasts]]\n",
      "* [[Sights Unseen]] (1997)\n",
      "\n",
      ";con [[Hate Eternal]]\n",
      "* [[King of All Kings]] (September 16, 2002)\n",
      "* [[I, Monarch]] (June 27, 2005)\n",
      "\n",
      ";con [[Malevolent Creation]]\n",
      "* [[In Cold Blood (álbum de Malevolent Creation)|In Cold Blood]] (1997)\n",
      "\n",
      ";con [[Nile]]\n",
      "* [[Black Seeds of Vengeance]] (September 5, 2000)\n",
      "\n",
      ";con [[Today Is The Day]]\n",
      "* [[Axis of Eden]] (2007)\n",
      "\n",
      "== Otros artistas ==\n",
      "* [[Drum Nation Vol. 3]] (2006)\n",
      "* [[Visionaries Of The Macabre: Vol.1]] (1998)\n",
      "* [[Worldwide Metal Inquisition]] (1998)\n",
      "\n",
      "== Equipo ==\n",
      "Roddy utiliza:&lt;ref&gt;[http://www.derekroddy.com/ Derek's drum kit setup]&lt;/ref&gt;\n",
      "\n",
      "[[DW Drums]] drums:\n",
      "* 22&quot; x 18&quot; Kick Drum\n",
      "* 20&quot; x 18&quot; Kick Drum\n",
      "* 10&quot; x 8&quot; Tom\n",
      "* 12&quot; x 8&quot; Tom\n",
      "* 8&quot; x 8&quot; Tom\n",
      "* 14&quot; x 14&quot; Floor Tom\n",
      "* 16&quot; x 16&quot; Floor Tom\n",
      "* 10&quot; x 5&quot; Snare\n",
      "* 13&quot; x 5&quot; Snare\n",
      "* 14&quot; x 6&quot; Snare\n",
      "\n",
      "[[Meinl]] cymbals:&lt;ref&gt;[http://web.archive.org/web/http://www.meinlcymbals.com/artists/artist/ARTIST/derek_roddy.html?cHash=c1a9e3b46c Derek Roddy at Meinl Cymbals]&lt;/ref&gt;\n",
      "* 8&quot; Soundcaster Custom Splash\n",
      "* 10&quot; Soundcaster Custom Splash\n",
      "* 20&quot; Mb20 Rock China\n",
      "* 13&quot; Byzance Brilliant Fast Hi-hats\n",
      "* 16&quot; Generation X Filter Chinas\n",
      "* 17&quot; Soundcaster Custom Medium Crash\n",
      "* 16&quot; Soundcaster Custom Medium Crashes\n",
      "* 12&quot; Generation X Filter China\n",
      "* 10&quot; Generation X Filter China\n",
      "* 18&quot; Mb20 Rock China\n",
      "* 22&quot; Byzance Dark Spectrum Ride\n",
      "* 18&quot; Soundcaster Custom Medium Crash\n",
      "* 10&quot; Byzance Traditional Medium Hi-hat\n",
      "\n",
      "[[Remo (marca)|Remo]] Heads\n",
      "\n",
      "[[Vater]] Sticks:\t\t\n",
      "* Vater Derek Roddy Model\n",
      "\n",
      "[[Axis Percussion|Axis]] pedals:\n",
      "* Model Derek Roddy Signature Edition\n",
      "* E-kit Triggers\n",
      "\n",
      "== Enlaces externos ==\n",
      "* [http://www.derekroddy.com/ Official website]\n",
      "* [http://www.drummerworld.com/drummers/Derek_Roddy.html Derek Roddy at drummerworld.com]\n",
      "* [https://web.archive.org/web/20080827165828/http://www.moderndrummer.com/updatefull/200001618 Derek Roddy at moderndrummer.com]\n",
      "* [http://web.archive.org/web/http://meinlcymbals.com/artists/artist/ARTIST/derek_roddy.html Derek Roddy at meinlcymbals.com]\n",
      "* [https://web.archive.org/web/20090529012609/http://www.playdrums.ru/gallery/75-derek-roddy.html Derek Roddy at playdrums.ru]\n",
      "* [http://www.clubkingsnake.com/index.php?/archives/147-Interview-One-of-Best-Drummers-in-Extreme-Metal,-Derek-Roddy.html/ Interview]\n",
      "* {{traducido ref|en|Derek Roddy}}\n",
      "\n",
      "== Referencias ==\n",
      "{{listaref}}\n",
      "\n",
      "[[Categoría:Bateristas de death metal]]\n",
      "[[Categoría:Músicos de death metal]]\n"
     ]
    }
   ],
   "source": [
    "for d in data:\n",
    "    if d['_titulo_']== :\n",
    "        print(d['body'])"
   ]
  },
  {
   "cell_type": "code",
   "execution_count": 17,
   "metadata": {
    "ExecuteTime": {
     "end_time": "2020-12-08T21:16:45.530737Z",
     "start_time": "2020-12-08T21:16:45.468243Z"
    }
   },
   "outputs": [
    {
     "data": {
      "application/vnd.jupyter.widget-view+json": {
       "model_id": "4dc5076e510d401aa0c102db1340cbb5",
       "version_major": 2,
       "version_minor": 0
      },
      "text/plain": [
       "HBox(children=(HTML(value=''), FloatProgress(value=0.0, max=26789.0), HTML(value='')))"
      ]
     },
     "metadata": {},
     "output_type": "display_data"
    },
    {
     "name": "stdout",
     "output_type": "stream",
     "text": [
      "\n"
     ]
    }
   ],
   "source": [
    "def remove_particular_cases(data, to_remove_l):\n",
    "    \n",
    "    '''This function removes certain articles that aren't related to musical artists'''\n",
    "    \n",
    "    ind_to_remove_l = list()\n",
    "    \n",
    "    with tqdm(total=len(data)) as pbar:\n",
    "        for ind, d in enumerate(data):\n",
    "            if d['_titulo_'] in to_remove_l:\n",
    "                ind_to_remove_l.append(ind)\n",
    "                \n",
    "            pbar.update(1)\n",
    "\n",
    "    for ind in ind_to_remove_l[::-1]:\n",
    "        data.pop(ind)\n",
    "        \n",
    "      \n",
    "    return data\n",
    "\n",
    "#####\n",
    "\n",
    "\n",
    "titulos_to_remove = ['Wikipedia:Tablón de anuncios de los bibliotecarios/Portal/Archivo/Protección de artículos/2018/04',\n",
    "                     'Plantilla:Ficha de persona/doc',\n",
    "                     'Wikipedia:Café/Portal/Archivo/Propuestas/2009/09',\n",
    "                     'Wikipedia:Consultas de borrado/Giancarlo Monsalve',\n",
    "                     'Gauvain Sers',\n",
    "                     'Wernher von Braun',\n",
    "                     'Raymond Kurzweil',\n",
    "                     'Tomás Luis de Victoria',\n",
    "                     'Cristóbal de Morales',\n",
    "                     'Francisco Guerrero', \n",
    "                     'Juan Cabanilles',\n",
    "                     'Robert Moog',\n",
    "                     'Diego Ortiz',\n",
    "                     'Alejandro García Villalón («Virulo»)',\n",
    "                     'Jean-Pierre Christin',\n",
    "                     'Juan Navarro Hispalensis',\n",
    "                     'Keiji Fujiwara',\n",
    "                     'Phil Zimmermann']\n",
    "\n",
    "data = remove_particular_cases(data, titulos_to_remove)"
   ]
  },
  {
   "cell_type": "code",
   "execution_count": 18,
   "metadata": {
    "ExecuteTime": {
     "end_time": "2020-12-08T21:16:46.187735Z",
     "start_time": "2020-12-08T21:16:46.184459Z"
    }
   },
   "outputs": [
    {
     "name": "stdout",
     "output_type": "stream",
     "text": [
      "Total # of Spanish Wikipedia Musical Artists articles: 26789\n"
     ]
    }
   ],
   "source": [
    "print(f'Total # of Spanish Wikipedia Musical Artists articles: {len(data)}')"
   ]
  },
  {
   "cell_type": "markdown",
   "metadata": {},
   "source": [
    "# Save the articles"
   ]
  },
  {
   "cell_type": "code",
   "execution_count": 19,
   "metadata": {
    "ExecuteTime": {
     "end_time": "2020-12-08T21:16:47.741457Z",
     "start_time": "2020-12-08T21:16:47.209686Z"
    }
   },
   "outputs": [],
   "source": [
    "pickle.dump(data, open( \"../Data/data_v1.p\", \"wb\" ) )"
   ]
  }
 ],
 "metadata": {
  "kernelspec": {
   "display_name": "Python 3",
   "language": "python",
   "name": "python3"
  },
  "language_info": {
   "codemirror_mode": {
    "name": "ipython",
    "version": 3
   },
   "file_extension": ".py",
   "mimetype": "text/x-python",
   "name": "python",
   "nbconvert_exporter": "python",
   "pygments_lexer": "ipython3",
   "version": "3.7.4"
  },
  "toc": {
   "base_numbering": 1,
   "nav_menu": {},
   "number_sections": true,
   "sideBar": true,
   "skip_h1_title": false,
   "title_cell": "Table of Contents",
   "title_sidebar": "Contents",
   "toc_cell": false,
   "toc_position": {},
   "toc_section_display": true,
   "toc_window_display": false
  },
  "varInspector": {
   "cols": {
    "lenName": 16,
    "lenType": 16,
    "lenVar": 40
   },
   "kernels_config": {
    "python": {
     "delete_cmd_postfix": "",
     "delete_cmd_prefix": "del ",
     "library": "var_list.py",
     "varRefreshCmd": "print(var_dic_list())"
    },
    "r": {
     "delete_cmd_postfix": ") ",
     "delete_cmd_prefix": "rm(",
     "library": "var_list.r",
     "varRefreshCmd": "cat(var_dic_list()) "
    }
   },
   "types_to_exclude": [
    "module",
    "function",
    "builtin_function_or_method",
    "instance",
    "_Feature"
   ],
   "window_display": false
  }
 },
 "nbformat": 4,
 "nbformat_minor": 2
}
