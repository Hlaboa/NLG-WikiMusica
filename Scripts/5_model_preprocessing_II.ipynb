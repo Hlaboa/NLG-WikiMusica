{
 "cells": [
  {
   "cell_type": "code",
   "execution_count": null,
   "metadata": {
    "ExecuteTime": {
     "end_time": "2021-01-01T13:36:23.039674Z",
     "start_time": "2021-01-01T13:36:22.371418Z"
    }
   },
   "outputs": [],
   "source": [
    "import pickle\n",
    "\n",
    "import warnings\n",
    "warnings.filterwarnings(\"ignore\", category=DeprecationWarning)\n",
    "\n",
    "import pandas as pd\n",
    "import numpy as np\n",
    "import random\n",
    "import math\n",
    "\n",
    "from sklearn.model_selection import train_test_split"
   ]
  },
  {
   "cell_type": "markdown",
   "metadata": {},
   "source": [
    "# Load articles"
   ]
  },
  {
   "cell_type": "code",
   "execution_count": null,
   "metadata": {
    "ExecuteTime": {
     "end_time": "2021-01-01T13:36:24.374441Z",
     "start_time": "2021-01-01T13:36:24.054450Z"
    }
   },
   "outputs": [],
   "source": [
    "df_wikimusica_short = pickle.load(open(\"../Data/df_wikimusica_short.p\", \"rb\"))\n",
    "df_wikimusica_short_softly_aligned =  pickle.load(open(\"../Data/df_wikimusica_short_softly_aligned.p\", \"rb\"))\n",
    "df_wikimusica_short_fully_aligned =  pickle.load(open(\"../Data/df_wikimusica_short_fully_aligned.p\", \"rb\"))\n",
    "\n",
    "df_wikimusica_long = pickle.load(open(\"../Data/df_wikimusica_long.p\", \"rb\"))\n",
    "df_wikimusica_long_softly_aligned =  pickle.load(open(\"../Data/df_wikimusica_long_softly_aligned.p\", \"rb\"))\n",
    "df_wikimusica_long_fully_aligned =  pickle.load(open(\"../Data/df_wikimusica_long_fully_aligned.p\", \"rb\"))"
   ]
  },
  {
   "cell_type": "markdown",
   "metadata": {},
   "source": [
    "# Preprocess input data"
   ]
  },
  {
   "cell_type": "code",
   "execution_count": null,
   "metadata": {
    "ExecuteTime": {
     "end_time": "2021-01-01T13:36:25.325727Z",
     "start_time": "2021-01-01T13:36:25.283107Z"
    }
   },
   "outputs": [],
   "source": [
    "def print_record_number():\n",
    "    print('Short: ',len(df_wikimusica_short['_id_'].unique()))\n",
    "    print('Long: ',len(df_wikimusica_long['_id_'].unique()))\n",
    "    print('Short Softly Aligned: ',len(df_wikimusica_short_softly_aligned['_id_'].unique()))\n",
    "    print('Long Softly Aligned: ',len(df_wikimusica_long_softly_aligned['_id_'].unique()))\n",
    "    print('Long Fully Aligned: ',len(df_wikimusica_long_fully_aligned['_id_'].unique()))\n",
    "    print('Short Fully Aligned: ',len(df_wikimusica_short_fully_aligned['_id_'].unique()))\n",
    "    \n",
    "####\n",
    "\n",
    "print_record_number()"
   ]
  },
  {
   "cell_type": "markdown",
   "metadata": {},
   "source": [
    "___"
   ]
  },
  {
   "cell_type": "code",
   "execution_count": null,
   "metadata": {
    "ExecuteTime": {
     "end_time": "2021-01-01T13:36:28.451400Z",
     "start_time": "2021-01-01T13:36:28.355461Z"
    }
   },
   "outputs": [],
   "source": [
    "ids = df_wikimusica_short_fully_aligned['_id_'].unique().tolist()\n",
    "\n",
    "df_wikimusica_short = df_wikimusica_short[df_wikimusica_short['_id_'].isin(ids)]\n",
    "df_wikimusica_short_softly_aligned = df_wikimusica_short_softly_aligned[df_wikimusica_short_softly_aligned['_id_'].isin(ids)]\n",
    "\n",
    "df_wikimusica_long = df_wikimusica_long[df_wikimusica_long['_id_'].isin(ids)]\n",
    "df_wikimusica_long_softly_aligned = df_wikimusica_long_softly_aligned[df_wikimusica_long_softly_aligned['_id_'].isin(ids)]\n",
    "df_wikimusica_long_fully_aligned = df_wikimusica_long_fully_aligned[df_wikimusica_long_fully_aligned['_id_'].isin(ids)]"
   ]
  },
  {
   "cell_type": "markdown",
   "metadata": {},
   "source": [
    "____"
   ]
  },
  {
   "cell_type": "code",
   "execution_count": null,
   "metadata": {
    "ExecuteTime": {
     "end_time": "2021-01-01T13:36:30.134460Z",
     "start_time": "2021-01-01T13:36:30.096187Z"
    }
   },
   "outputs": [],
   "source": [
    "print_record_number()"
   ]
  },
  {
   "cell_type": "markdown",
   "metadata": {},
   "source": [
    "____"
   ]
  },
  {
   "cell_type": "code",
   "execution_count": null,
   "metadata": {
    "ExecuteTime": {
     "end_time": "2021-01-01T13:36:31.747546Z",
     "start_time": "2021-01-01T13:36:31.427281Z"
    }
   },
   "outputs": [],
   "source": [
    "# Create dataset description\n",
    "\n",
    "def describe_dataset(df):\n",
    "    \n",
    "    num_artists = len(df['_id_'].unique())\n",
    "\n",
    "    df_plot = df.copy()\n",
    "    df_plot_II = df.copy()\n",
    "\n",
    "    df_plot = pd.DataFrame(df_plot\n",
    "                            .groupby(['_id_','variable'])\n",
    "                            .head(1).groupby('variable')\n",
    "                            .count()['_id_']\n",
    "                            .sort_values(ascending=False)).rename(columns={'_id_':'# of artists'})\n",
    "\n",
    "    df_plot['% of artists'] = df_plot.apply(lambda a: round(100*(a/num_artists),2))\n",
    "\n",
    "\n",
    "    df_plot_II = pd.DataFrame(df_plot_II\n",
    "                                      .groupby('variable')\n",
    "                                      .count()['_id_']\n",
    "                                      .sort_values(ascending=False)).rename(columns={'_id_':'# total'})\n",
    "\n",
    "    df_plot = df_plot_II.merge(df_plot, 'left',  'variable')\n",
    "    df_plot['mean per artist'] = round((df_plot['# total']/df_plot['# of artists']),2)\n",
    "\n",
    "    median_df = pd.DataFrame(df\n",
    "                  .groupby(['_id_','variable'])\n",
    "                  .count()\n",
    "                  .groupby('variable')\n",
    "                  .median()['_titulo_']).rename(columns={'_titulo_':'median per artist'})\n",
    "\n",
    "    df_plot = df_plot.merge(median_df, 'left',  'variable')\n",
    "\n",
    "    df_plot = df_plot.filter(['# of artists', '% of artists', '# total', 'mean per artist', 'median per artist'])\n",
    "    df_plot = df_plot.sort_values('# of artists', ascending=False)\n",
    "\n",
    "    return df_plot\n",
    "\n",
    "\n",
    "####\n",
    "\n",
    "df_wikimusica_short_desc = describe_dataset(df_wikimusica_short)\n",
    "df_wikimusica_short_desc"
   ]
  },
  {
   "cell_type": "code",
   "execution_count": null,
   "metadata": {
    "ExecuteTime": {
     "end_time": "2021-01-01T13:36:36.011774Z",
     "start_time": "2021-01-01T13:36:35.830673Z"
    }
   },
   "outputs": [],
   "source": [
    "df_wikimusica_short_softly_aligned_desc = describe_dataset(df_wikimusica_short_softly_aligned)\n",
    "df_wikimusica_short_softly_aligned_desc"
   ]
  },
  {
   "cell_type": "code",
   "execution_count": null,
   "metadata": {
    "ExecuteTime": {
     "end_time": "2021-01-01T13:36:36.171403Z",
     "start_time": "2021-01-01T13:36:36.016759Z"
    }
   },
   "outputs": [],
   "source": [
    "df_wikimusica_short_fully_aligned_desc = describe_dataset(df_wikimusica_short_fully_aligned)\n",
    "df_wikimusica_short_fully_aligned_desc"
   ]
  },
  {
   "cell_type": "markdown",
   "metadata": {},
   "source": [
    "_____"
   ]
  },
  {
   "cell_type": "code",
   "execution_count": null,
   "metadata": {
    "ExecuteTime": {
     "end_time": "2021-01-01T13:36:39.420351Z",
     "start_time": "2021-01-01T13:36:39.312321Z"
    }
   },
   "outputs": [],
   "source": [
    "ids = df_wikimusica_short_fully_aligned[df_wikimusica_short_fully_aligned['variable']=='nombre artistico']['_id_'].unique().tolist()\n",
    "\n",
    "df_wikimusica_short = df_wikimusica_short[df_wikimusica_short['_id_'].isin(ids)]\n",
    "df_wikimusica_short_softly_aligned = df_wikimusica_short_softly_aligned[df_wikimusica_short_softly_aligned['_id_'].isin(ids)]\n",
    "df_wikimusica_short_fully_aligned = df_wikimusica_short_fully_aligned[df_wikimusica_short_fully_aligned['_id_'].isin(ids)]\n",
    "\n",
    "\n",
    "df_wikimusica_long = df_wikimusica_long[df_wikimusica_long['_id_'].isin(ids)]\n",
    "df_wikimusica_long_softly_aligned = df_wikimusica_long_softly_aligned[df_wikimusica_long_softly_aligned['_id_'].isin(ids)]\n",
    "df_wikimusica_long_fully_aligned = df_wikimusica_long_fully_aligned[df_wikimusica_long_fully_aligned['_id_'].isin(ids)]"
   ]
  },
  {
   "cell_type": "markdown",
   "metadata": {},
   "source": [
    "____"
   ]
  },
  {
   "cell_type": "code",
   "execution_count": null,
   "metadata": {
    "ExecuteTime": {
     "end_time": "2021-01-01T13:36:40.368055Z",
     "start_time": "2021-01-01T13:36:40.336631Z"
    }
   },
   "outputs": [],
   "source": [
    "print_record_number()"
   ]
  },
  {
   "cell_type": "markdown",
   "metadata": {},
   "source": [
    "_____"
   ]
  },
  {
   "cell_type": "code",
   "execution_count": null,
   "metadata": {
    "ExecuteTime": {
     "end_time": "2021-01-01T13:36:41.196749Z",
     "start_time": "2021-01-01T13:36:41.052924Z"
    }
   },
   "outputs": [],
   "source": [
    "df_wikimusica_short_fully_aligned_desc = describe_dataset(df_wikimusica_short_fully_aligned)\n",
    "df_wikimusica_short_fully_aligned_desc"
   ]
  },
  {
   "cell_type": "markdown",
   "metadata": {},
   "source": [
    "## Select attributes for training"
   ]
  },
  {
   "cell_type": "code",
   "execution_count": null,
   "metadata": {
    "ExecuteTime": {
     "end_time": "2021-01-01T13:36:44.102974Z",
     "start_time": "2021-01-01T13:36:44.023212Z"
    }
   },
   "outputs": [],
   "source": [
    "sel_attributes = ['nombre artistico', 'nombre nacimiento', 'genero', 'ocupacion', \n",
    "                  'nacimiento fecha', 'nacimiento lugar', 'instrumento', 'grupo',\n",
    "                  'nacionalidad', 'fallecimiento lugar', 'fallecimiento fecha',\n",
    "                  'tipo voz']\n",
    "\n",
    "def filter_attributes(df, attr_list):\n",
    "    \n",
    "    df = df[df['variable'].isin(attr_list)]\n",
    "    return df\n",
    "\n",
    "#####\n",
    "\n",
    "df_wikimusica_short = filter_attributes(df_wikimusica_short,sel_attributes)\n",
    "df_wikimusica_short_softly_aligned = filter_attributes(df_wikimusica_short_softly_aligned,sel_attributes)\n",
    "df_wikimusica_short_fully_aligned = filter_attributes(df_wikimusica_short_fully_aligned,sel_attributes)\n",
    "df_wikimusica_long = filter_attributes(df_wikimusica_long,sel_attributes)\n",
    "df_wikimusica_long_softly_aligned = filter_attributes(df_wikimusica_long_softly_aligned,sel_attributes)\n",
    "df_wikimusica_long_fully_aligned = filter_attributes(df_wikimusica_long_fully_aligned,sel_attributes)"
   ]
  },
  {
   "cell_type": "code",
   "execution_count": null,
   "metadata": {
    "ExecuteTime": {
     "end_time": "2021-01-01T13:36:44.675024Z",
     "start_time": "2021-01-01T13:36:44.535055Z"
    }
   },
   "outputs": [],
   "source": [
    "df_wikimusica_short_fully_aligned_desc = describe_dataset(df_wikimusica_short_fully_aligned)\n",
    "df_wikimusica_short_fully_aligned_desc"
   ]
  },
  {
   "cell_type": "markdown",
   "metadata": {},
   "source": [
    "___"
   ]
  },
  {
   "cell_type": "code",
   "execution_count": null,
   "metadata": {
    "ExecuteTime": {
     "end_time": "2021-01-01T13:36:46.793604Z",
     "start_time": "2021-01-01T13:36:46.787651Z"
    }
   },
   "outputs": [],
   "source": [
    "def encode_attributes(text):\n",
    "    text = (text.replace('nombre artistico |', 'stagename |')\n",
    "                .replace('nombre nacimiento |', 'birthname |')\n",
    "                .replace('ocupacion |', 'occupation |')\n",
    "                .replace('nacimiento lugar |', 'birthplace |')\n",
    "                .replace('nacimiento fecha |', 'birthdate |')\n",
    "                .replace('nacionalidad |', 'nation |')\n",
    "                .replace('fallecimiento lugar |', 'deathplace |')\n",
    "                .replace('fallecimiento fecha |', 'deathdate |')\n",
    "                .replace('grupo |', 'group |')\n",
    "                .replace('instrumento |', 'instrument |')\n",
    "                .replace('tipo voz |', 'voice |')\n",
    "                .replace('genero |', 'genre |'))\n",
    "    \n",
    "    return text"
   ]
  },
  {
   "cell_type": "code",
   "execution_count": null,
   "metadata": {
    "ExecuteTime": {
     "end_time": "2021-01-01T13:36:47.922514Z",
     "start_time": "2021-01-01T13:36:47.914195Z"
    }
   },
   "outputs": [],
   "source": [
    "def generate_input_output(df):\n",
    "\n",
    "    df['input'] = df['variable'] + ' | ' + df['value']\n",
    "    \n",
    "    data = pd.DataFrame(df.groupby(['_id_'])['input'].apply(lambda a: encode_attributes('wikimusic: ' + ' • '.join(a.replace('•',' ')))))\n",
    "    data = data.merge(df.filter(['_id_', 'text']), 'left', '_id_')\n",
    "    data.drop_duplicates(inplace=True)\n",
    "    \n",
    "    input_train, input_test, output_train, output_test = train_test_split(data['input'], data['text'], test_size=0.2, random_state=89)\n",
    "\n",
    "    input_train = input_train.tolist()\n",
    "    input_test = input_test.tolist()\n",
    "    output_train = output_train.tolist()\n",
    "    output_test = output_test.tolist()\n",
    "    \n",
    "    return [input_train, input_test, output_train, output_test]"
   ]
  },
  {
   "cell_type": "code",
   "execution_count": null,
   "metadata": {
    "ExecuteTime": {
     "end_time": "2021-01-01T13:37:04.311714Z",
     "start_time": "2021-01-01T13:36:48.426122Z"
    }
   },
   "outputs": [],
   "source": [
    "wikimusica_short = generate_input_output(df_wikimusica_short)\n",
    "wikimusica_short_softly_aligned = generate_input_output(df_wikimusica_short_softly_aligned)\n",
    "wikimusica_short_fully_aligned = generate_input_output(df_wikimusica_short_fully_aligned)\n",
    "wikimusica_long = generate_input_output(df_wikimusica_long)\n",
    "wikimusica_long_softly_aligned = generate_input_output(df_wikimusica_long_softly_aligned)\n",
    "wikimusica_long_fully_aligned = generate_input_output(df_wikimusica_long_fully_aligned)"
   ]
  },
  {
   "cell_type": "markdown",
   "metadata": {},
   "source": [
    "# Save Preprocess Data"
   ]
  },
  {
   "cell_type": "code",
   "execution_count": null,
   "metadata": {
    "ExecuteTime": {
     "end_time": "2020-12-26T21:26:04.099940Z",
     "start_time": "2020-12-26T21:26:04.011033Z"
    }
   },
   "outputs": [],
   "source": [
    "pickle.dump(wikimusica_short, open( \"../Datasets/wikimusica_short.p\", \"wb\"))\n",
    "pickle.dump(wikimusica_short_softly_aligned, open( \"../Datasets/wikimusica_short_softly_aligned.p\", \"wb\"))\n",
    "pickle.dump(wikimusica_short_fully_aligned, open( \"../Datasets/wikimusica_short_fully_aligned.p\", \"wb\"))\n",
    "pickle.dump(wikimusica_long, open( \"../Datasets/wikimusica_long.p\", \"wb\"))\n",
    "pickle.dump(wikimusica_long_softly_aligned, open( \"../Datasets/wikimusica_long_softly_aligned.p\", \"wb\"))\n",
    "pickle.dump(wikimusica_long_fully_aligned, open( \"../Datasets/wikimusica_long_fully_aligned.p\", \"wb\"))"
   ]
  }
 ],
 "metadata": {
  "kernelspec": {
   "display_name": "Python 3",
   "language": "python",
   "name": "python3"
  },
  "language_info": {
   "codemirror_mode": {
    "name": "ipython",
    "version": 3
   },
   "file_extension": ".py",
   "mimetype": "text/x-python",
   "name": "python",
   "nbconvert_exporter": "python",
   "pygments_lexer": "ipython3",
   "version": "3.7.4"
  },
  "toc": {
   "base_numbering": 1,
   "nav_menu": {},
   "number_sections": true,
   "sideBar": true,
   "skip_h1_title": false,
   "title_cell": "Table of Contents",
   "title_sidebar": "Contents",
   "toc_cell": false,
   "toc_position": {},
   "toc_section_display": true,
   "toc_window_display": false
  }
 },
 "nbformat": 4,
 "nbformat_minor": 2
}
