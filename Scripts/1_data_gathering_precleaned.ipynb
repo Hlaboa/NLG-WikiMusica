{
 "cells": [
  {
   "cell_type": "markdown",
   "metadata": {},
   "source": [
    "# Imports"
   ]
  },
  {
   "cell_type": "code",
   "execution_count": null,
   "metadata": {
    "ExecuteTime": {
     "end_time": "2020-12-13T21:15:00.907797Z",
     "start_time": "2020-12-13T21:15:00.899288Z"
    }
   },
   "outputs": [],
   "source": [
    "import pickle\n",
    "import json\n",
    "\n",
    "import os\n",
    "from glob import glob\n",
    "\n",
    "from tqdm.notebook import tqdm\n",
    "\n",
    "import re\n",
    "import gc"
   ]
  },
  {
   "cell_type": "markdown",
   "metadata": {},
   "source": [
    "# Get articles"
   ]
  },
  {
   "cell_type": "code",
   "execution_count": null,
   "metadata": {
    "ExecuteTime": {
     "end_time": "2020-12-13T21:15:00.935232Z",
     "start_time": "2020-12-13T21:15:00.913935Z"
    }
   },
   "outputs": [],
   "source": [
    "PATH = '/home/hlaboa-server/jupyter/TFM/DATA/text/'\n",
    "\n",
    "not_files = ['/home/hlaboa-server/jupyter/TFM/DATA/text/AA',\n",
    "             '/home/hlaboa-server/jupyter/TFM/DATA/text/AG',\n",
    "             '/home/hlaboa-server/jupyter/TFM/DATA/text/AR',\n",
    "             '/home/hlaboa-server/jupyter/TFM/DATA/text/AI',\n",
    "             '/home/hlaboa-server/jupyter/TFM/DATA/text/BD',\n",
    "             '/home/hlaboa-server/jupyter/TFM/DATA/text/AB',\n",
    "             '/home/hlaboa-server/jupyter/TFM/DATA/text/AZ',\n",
    "             '/home/hlaboa-server/jupyter/TFM/DATA/text/AM',\n",
    "             '/home/hlaboa-server/jupyter/TFM/DATA/text/AH',\n",
    "             '/home/hlaboa-server/jupyter/TFM/DATA/text/AO',\n",
    "             '/home/hlaboa-server/jupyter/TFM/DATA/text/BA',\n",
    "             '/home/hlaboa-server/jupyter/TFM/DATA/text/AU',\n",
    "             '/home/hlaboa-server/jupyter/TFM/DATA/text/BH',\n",
    "             '/home/hlaboa-server/jupyter/TFM/DATA/text/BC',\n",
    "             '/home/hlaboa-server/jupyter/TFM/DATA/text/BK',\n",
    "             '/home/hlaboa-server/jupyter/TFM/DATA/text/BB',\n",
    "             '/home/hlaboa-server/jupyter/TFM/DATA/text/AY',\n",
    "             '/home/hlaboa-server/jupyter/TFM/DATA/text/BG',\n",
    "             '/home/hlaboa-server/jupyter/TFM/DATA/text/BF',\n",
    "             '/home/hlaboa-server/jupyter/TFM/DATA/text/AT',\n",
    "             '/home/hlaboa-server/jupyter/TFM/DATA/text/AC',\n",
    "             '/home/hlaboa-server/jupyter/TFM/DATA/text/AF',\n",
    "             '/home/hlaboa-server/jupyter/TFM/DATA/text/AP',\n",
    "             '/home/hlaboa-server/jupyter/TFM/DATA/text/AW',\n",
    "             '/home/hlaboa-server/jupyter/TFM/DATA/text/AJ',\n",
    "             '/home/hlaboa-server/jupyter/TFM/DATA/text/AN',\n",
    "             '/home/hlaboa-server/jupyter/TFM/DATA/text/AX',\n",
    "             '/home/hlaboa-server/jupyter/TFM/DATA/text/AE',\n",
    "             '/home/hlaboa-server/jupyter/TFM/DATA/text/AK',\n",
    "             '/home/hlaboa-server/jupyter/TFM/DATA/text/AQ',\n",
    "             '/home/hlaboa-server/jupyter/TFM/DATA/text/AV',\n",
    "             '/home/hlaboa-server/jupyter/TFM/DATA/text/AD',\n",
    "             '/home/hlaboa-server/jupyter/TFM/DATA/text/BE',\n",
    "             '/home/hlaboa-server/jupyter/TFM/DATA/text/BJ',\n",
    "             '/home/hlaboa-server/jupyter/TFM/DATA/text/AS',\n",
    "             '/home/hlaboa-server/jupyter/TFM/DATA/text/BI',\n",
    "             '/home/hlaboa-server/jupyter/TFM/DATA/text/AL',\n",
    "             '/home/hlaboa-server/jupyter/TFM/DATA/text/BN',\n",
    "             '/home/hlaboa-server/jupyter/TFM/DATA/text/BL',\n",
    "             '/home/hlaboa-server/jupyter/TFM/DATA/text/BO',\n",
    "             '/home/hlaboa-server/jupyter/TFM/DATA/text/BM',]\n",
    "\n",
    "elements = [y for x in os.walk(PATH) for y in glob(os.path.join(x[0], '*'))]\n",
    "elements = [e for e in elements if e not in not_files]"
   ]
  },
  {
   "cell_type": "code",
   "execution_count": null,
   "metadata": {
    "ExecuteTime": {
     "end_time": "2020-12-13T21:16:04.011780Z",
     "start_time": "2020-12-13T21:15:00.936536Z"
    }
   },
   "outputs": [],
   "source": [
    "def get_articles(file):\n",
    "    \n",
    "    pattern = \"\\{.*?\\}\"\n",
    "    articles = re.findall(pattern, file)\n",
    "    \n",
    "    articles_l = list()\n",
    "    for ind, article in enumerate(articles):\n",
    "        try:\n",
    "            j = json.loads(article)\n",
    "            articles_l.append(dict(j))\n",
    "        except:\n",
    "            #print(f'1... {ind}')\n",
    "            try:\n",
    "                article = article[:-1]+'\"'+'}'\n",
    "                j = json.loads(article)\n",
    "                articles_l.append(dict(j))\n",
    "            except:\n",
    "                #print(f'2... {ind}')\n",
    "                break\n",
    "        \n",
    "    return articles_l\n",
    "\n",
    "\n",
    "######\n",
    "\n",
    "\n",
    "articles = list()\n",
    "with tqdm(total=len(elements)) as pbar:\n",
    "    for e in elements:\n",
    "        file = open(e, 'r')\n",
    "        file = file.read() \n",
    "        articles.append(get_articles(file))\n",
    "        pbar.update(1)\n",
    "        \n",
    "    articles = [article for flat_articles in articles for article in flat_articles]\n",
    "    \n",
    "    \n",
    "print(f'Total # of Spanish Wikipedia articles precleaned: {len(articles)}')"
   ]
  },
  {
   "cell_type": "code",
   "execution_count": null,
   "metadata": {
    "ExecuteTime": {
     "end_time": "2020-12-13T21:16:13.241008Z",
     "start_time": "2020-12-13T21:16:04.013653Z"
    }
   },
   "outputs": [],
   "source": [
    "for ind,a in enumerate(articles):\n",
    "    \n",
    "    try:\n",
    "        text = a['text']\n",
    "\n",
    "        splits = text.split('\\n')\n",
    "\n",
    "        for i,s in enumerate(splits):\n",
    "            if len(s)>40:\n",
    "                text = s\n",
    "\n",
    "                break\n",
    "            \n",
    "        articles[ind]['text'] = text\n",
    "        \n",
    "        \n",
    "    except:\n",
    "        \n",
    "        articles[ind]['text'] = ''\n",
    "        \n",
    "        pass"
   ]
  },
  {
   "cell_type": "markdown",
   "metadata": {},
   "source": [
    "# Save the articles"
   ]
  },
  {
   "cell_type": "code",
   "execution_count": null,
   "metadata": {
    "ExecuteTime": {
     "end_time": "2020-12-13T21:16:18.956281Z",
     "start_time": "2020-12-13T21:16:13.242389Z"
    }
   },
   "outputs": [],
   "source": [
    "pickle.dump(articles, open( \"../Data/data_v1_2.p\", \"wb\" ) )"
   ]
  }
 ],
 "metadata": {
  "kernelspec": {
   "display_name": "Python 3",
   "language": "python",
   "name": "python3"
  },
  "language_info": {
   "codemirror_mode": {
    "name": "ipython",
    "version": 3
   },
   "file_extension": ".py",
   "mimetype": "text/x-python",
   "name": "python",
   "nbconvert_exporter": "python",
   "pygments_lexer": "ipython3",
   "version": "3.7.4"
  },
  "toc": {
   "base_numbering": 1,
   "nav_menu": {},
   "number_sections": true,
   "sideBar": true,
   "skip_h1_title": false,
   "title_cell": "Table of Contents",
   "title_sidebar": "Contents",
   "toc_cell": false,
   "toc_position": {},
   "toc_section_display": true,
   "toc_window_display": false
  },
  "varInspector": {
   "cols": {
    "lenName": 16,
    "lenType": 16,
    "lenVar": 40
   },
   "kernels_config": {
    "python": {
     "delete_cmd_postfix": "",
     "delete_cmd_prefix": "del ",
     "library": "var_list.py",
     "varRefreshCmd": "print(var_dic_list())"
    },
    "r": {
     "delete_cmd_postfix": ") ",
     "delete_cmd_prefix": "rm(",
     "library": "var_list.r",
     "varRefreshCmd": "cat(var_dic_list()) "
    }
   },
   "types_to_exclude": [
    "module",
    "function",
    "builtin_function_or_method",
    "instance",
    "_Feature"
   ],
   "window_display": false
  }
 },
 "nbformat": 4,
 "nbformat_minor": 2
}
