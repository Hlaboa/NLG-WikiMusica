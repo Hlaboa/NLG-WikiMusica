{
 "cells": [
  {
   "cell_type": "markdown",
   "metadata": {},
   "source": [
    "# Imports"
   ]
  },
  {
   "cell_type": "code",
   "execution_count": 1,
   "metadata": {
    "ExecuteTime": {
     "end_time": "2020-12-25T17:47:37.277857Z",
     "start_time": "2020-12-25T17:47:36.593181Z"
    }
   },
   "outputs": [],
   "source": [
    "import re\n",
    "from unicodedata import normalize\n",
    "import html\n",
    "from tqdm.notebook import tqdm\n",
    "import pickle\n",
    "import gc\n",
    "from itertools import compress\n",
    "import spacy\n",
    "import pandas as pd\n",
    "import numpy as np\n",
    "\n",
    "import matplotlib.pyplot as plt"
   ]
  },
  {
   "cell_type": "markdown",
   "metadata": {},
   "source": [
    "# Load articles"
   ]
  },
  {
   "cell_type": "code",
   "execution_count": 2,
   "metadata": {
    "ExecuteTime": {
     "end_time": "2020-12-25T17:47:43.768657Z",
     "start_time": "2020-12-25T17:47:37.279572Z"
    }
   },
   "outputs": [],
   "source": [
    "data_artists = pickle.load(open(\"../Data/data_v3_persons.p\", \"rb\"))\n",
    "data_texts = pickle.load(open(\"../Data/data_v1_2.p\", \"rb\"))\n",
    "\n",
    "df_data_artists = pd.DataFrame(data_artists)\n",
    "df_data_texts = pd.DataFrame(data_texts)\n",
    "\n",
    "\n",
    "df_data_texts = df_data_texts.rename(columns={'text':'text_v2',\n",
    "                                              'title':'_titulo_v2_',\n",
    "                                              'url':'_url_'})\n",
    "\n",
    "df = df_data_artists.merge(df_data_texts, 'left', left_on='_id_', right_on='id')\n",
    "\n",
    "###\n",
    "\n",
    "df = df.filter(['_id_', '_titulo_', '_url_', 'text', 'text_II', 'text_v2',\n",
    "               'nombre_', 'ocupacion_',\n",
    "               'nacimiento_', 'fallecimiento_', 'periodo_actividad_',\n",
    "               'grupos_', 'instrumentos_', 'generos_', 'discograficas_',\n",
    "               'relaciones_', 'tipo_voz_', 'religiones_', 'residencia_', 'premios_',\n",
    "               'estudios_', 'idioma_', 'discografia_', 'singles_',\n",
    "              ])"
   ]
  },
  {
   "cell_type": "markdown",
   "metadata": {},
   "source": [
    "___"
   ]
  },
  {
   "cell_type": "markdown",
   "metadata": {},
   "source": [
    "# Create dataset"
   ]
  },
  {
   "cell_type": "code",
   "execution_count": 3,
   "metadata": {
    "ExecuteTime": {
     "end_time": "2020-12-25T17:47:43.992046Z",
     "start_time": "2020-12-25T17:47:43.770288Z"
    }
   },
   "outputs": [],
   "source": [
    "def get_sello(row, periodo=False):\n",
    "\n",
    "    try:\n",
    "        if len(row)>0:\n",
    "            sello = list()\n",
    "            sello_periodo = list()\n",
    "            \n",
    "            for i,r in enumerate(row):\n",
    "                sello.append('sello_'+str(i+1)+'::'+r['discografica'])\n",
    "                \n",
    "                if r['año_inicio']!='':\n",
    "                    sello_periodo.append('sello periodo_'+str(i+1)+'::' + r['año_inicio'] + '-' + r['año_fin'])\n",
    "                    \n",
    "            if periodo:\n",
    "                return sello_periodo\n",
    "            else:\n",
    "                return sello \n",
    "        \n",
    "    except:\n",
    "        return np.nan\n",
    "    \n",
    "####\n",
    "\n",
    "df['sello'] = df.discograficas_.apply(get_sello)\n",
    "df['sello periodo'] = df.discograficas_.apply(get_sello, periodo=True)       "
   ]
  },
  {
   "cell_type": "code",
   "execution_count": 4,
   "metadata": {
    "ExecuteTime": {
     "end_time": "2020-12-25T17:47:44.021423Z",
     "start_time": "2020-12-25T17:47:43.993680Z"
    }
   },
   "outputs": [],
   "source": [
    "def get_disco(row, año=False):\n",
    "\n",
    "    try:\n",
    "        if len(row)>0:\n",
    "            disco = list()\n",
    "            disco_año = list()\n",
    "            \n",
    "            for i,r in enumerate(row):\n",
    "                disco.append('disco_'+str(i+1)+'::'+r['disco'])\n",
    "                \n",
    "                if r['año']!='':\n",
    "                    disco_año.append('disco año_'+str(i+1)+'::'+r['año'])\n",
    "                    \n",
    "            if año:\n",
    "                return disco_año\n",
    "            else:\n",
    "                return disco \n",
    "        \n",
    "    except:\n",
    "        return np.nan\n",
    "    \n",
    "####\n",
    "\n",
    "df['disco'] = df.discografia_.apply(get_disco)\n",
    "df['disco año'] = df.discografia_.apply(get_disco, año=True)"
   ]
  },
  {
   "cell_type": "code",
   "execution_count": 5,
   "metadata": {
    "ExecuteTime": {
     "end_time": "2020-12-25T17:47:44.055097Z",
     "start_time": "2020-12-25T17:47:44.022537Z"
    }
   },
   "outputs": [],
   "source": [
    "def get_single(row, año=False):\n",
    "\n",
    "    try:\n",
    "        if len(row)>0:\n",
    "            single = list()\n",
    "            single_año = list()\n",
    "            \n",
    "            for i,r in enumerate(row):\n",
    "                single.append('single_'+str(i+1)+'::'+r['cancion'])\n",
    "                \n",
    "                if r['año']!='':\n",
    "                    single_año.append('single año_'+str(i+1)+'::'+r['año'])\n",
    "                    \n",
    "            if año:\n",
    "                return single_año\n",
    "            else:\n",
    "                return single \n",
    "        \n",
    "    except:\n",
    "        return np.nan\n",
    "    \n",
    "####\n",
    "\n",
    "df['single'] = df.singles_.apply(get_single)\n",
    "df['single año'] = df.singles_.apply(get_single, año=True)"
   ]
  },
  {
   "cell_type": "code",
   "execution_count": 6,
   "metadata": {
    "ExecuteTime": {
     "end_time": "2020-12-25T17:47:44.083706Z",
     "start_time": "2020-12-25T17:47:44.056452Z"
    }
   },
   "outputs": [],
   "source": [
    "def get_premio(row, año=False):\n",
    "\n",
    "    try:\n",
    "        if len(row)>0:\n",
    "            premio = list()\n",
    "            premio_año = list()\n",
    "            \n",
    "            for i,r in enumerate(row):\n",
    "                premio.append('premio_'+str(i+1)+'::'+r['tipo'])\n",
    "                \n",
    "                if r['año']!='':\n",
    "                    premio_año.append('premio año_'+str(i+1)+'::'+r['año'])\n",
    "                    \n",
    "            if año:\n",
    "                return premio_año\n",
    "            else:\n",
    "                return premio \n",
    "        \n",
    "    except:\n",
    "        return np.nan\n",
    "    \n",
    "####\n",
    "\n",
    "df['premio'] = df.premios_.apply(get_premio)\n",
    "df['premio año'] = df.premios_.apply(get_premio, año=True)"
   ]
  },
  {
   "cell_type": "code",
   "execution_count": 7,
   "metadata": {
    "ExecuteTime": {
     "end_time": "2020-12-25T17:47:44.254775Z",
     "start_time": "2020-12-25T17:47:44.084785Z"
    }
   },
   "outputs": [],
   "source": [
    "def get_key_value(row, key):\n",
    "\n",
    "    try:\n",
    "        row = row[key]\n",
    "        if len(row)>0:\n",
    "            l = list()\n",
    "            if isinstance(row, (str)):\n",
    "                return row\n",
    "            else:\n",
    "                for r in row:\n",
    "                    if r!='':\n",
    "                        l.append(r)\n",
    "                return l \n",
    "        \n",
    "    except:\n",
    "        return np.nan\n",
    "    \n",
    "####\n",
    "\n",
    "df['nacimiento lugar'] = df.nacimiento_.apply(get_key_value, key='lugar')\n",
    "df['nacimiento fecha'] = df.nacimiento_.apply(get_key_value, key='fecha')\n",
    "df['nacionalidad'] = df.nacimiento_.apply(get_key_value, key='nacionalidad')\n",
    "\n",
    "df['fallecimiento lugar'] = df.fallecimiento_.apply(get_key_value, key='lugar')\n",
    "df['fallecimiento fecha'] = df.fallecimiento_.apply(get_key_value, key='fecha')\n",
    "df['fallecimiento causa'] = df.fallecimiento_.apply(get_key_value, key='causa')\n",
    "\n",
    "df['instrumento'] = df.instrumentos_.apply(get_key_value, key='tipo')\n",
    "df['instrumento modelo'] = df.instrumentos_.apply(get_key_value, key='modelo')\n",
    "\n",
    "df['nombre artistico'] = df.nombre_.apply(get_key_value, key='artistico')\n",
    "df['nombre nacimiento'] = df.nombre_.apply(get_key_value, key='nacimiento')"
   ]
  },
  {
   "cell_type": "code",
   "execution_count": 8,
   "metadata": {
    "ExecuteTime": {
     "end_time": "2020-12-25T17:47:44.278369Z",
     "start_time": "2020-12-25T17:47:44.256719Z"
    }
   },
   "outputs": [],
   "source": [
    "def get_actividad(row):\n",
    "\n",
    "    try:\n",
    "        if len(row)>0:\n",
    "            l = list()\n",
    "            for r in row:\n",
    "                if r['año_inicio']!='':\n",
    "                    l.append(r['año_inicio'] + '-' + r['año_final'])\n",
    "                    \n",
    "            return l  \n",
    "        \n",
    "    except:\n",
    "        return np.nan\n",
    "    \n",
    "####\n",
    "\n",
    "df['actividad'] = df.periodo_actividad_.apply(get_actividad)"
   ]
  },
  {
   "cell_type": "code",
   "execution_count": 9,
   "metadata": {
    "ExecuteTime": {
     "end_time": "2020-12-25T17:47:44.290716Z",
     "start_time": "2020-12-25T17:47:44.279919Z"
    }
   },
   "outputs": [],
   "source": [
    "df['estudios'] = df['estudios_']\n",
    "df['religion'] = df['religiones_']\n",
    "df['idioma'] = df['idioma_']\n",
    "df['genero'] = df['generos_']\n",
    "df['tipo voz'] = df['tipo_voz_']\n",
    "df['ocupacion'] = df['ocupacion_']\n",
    "df['grupo'] = df['grupos_']\n",
    "df['residencia'] = df['residencia_']"
   ]
  },
  {
   "cell_type": "code",
   "execution_count": 10,
   "metadata": {
    "ExecuteTime": {
     "end_time": "2020-12-25T17:47:44.690328Z",
     "start_time": "2020-12-25T17:47:44.292026Z"
    }
   },
   "outputs": [],
   "source": [
    "def get_relationship(row, relation, key='persona'):\n",
    "    \n",
    "    try:\n",
    "        \n",
    "        l_person = list()\n",
    "        l_period = list()\n",
    "        l_reason = list()\n",
    "        \n",
    "        row = [r for r in row if r['relación']==relation]\n",
    "        \n",
    "        if relation=='conyugue':\n",
    "            \n",
    "            for i,r in enumerate(row):\n",
    "                l_person.append('conyugue_'+str(i+1)+'::'+r['persona'])\n",
    "                \n",
    "                if r['año_inicio']!='':\n",
    "                    l_period.append('conyugue periodo_'+str(i+1)+'::'+r['año_inicio'] + '-' + r['año_final'])\n",
    "                \n",
    "                if r['razón_fin']!='':\n",
    "                    l_reason.append('conyugue razon fin_'+str(i+1)+'::'+r['razón_fin'])\n",
    "            \n",
    "            \n",
    "        elif relation=='pareja':\n",
    "            \n",
    "            for i,r in enumerate(row):\n",
    "                \n",
    "                l_person.append('pareja_'+str(i+1)+'::'+r['persona'])\n",
    "                \n",
    "                if r['año_inicio']!='':\n",
    "                    l_period.append('pareja periodo_'+str(i+1)+'::'+r['año_inicio'] + '-' + r['año_final'])\n",
    "                \n",
    "        else:\n",
    "            \n",
    "            for i,r in enumerate(row): \n",
    "                l_person.append(r['persona'])\n",
    "\n",
    "        \n",
    "        if key=='persona':\n",
    "            return l_person\n",
    "\n",
    "        elif key=='periodo':\n",
    "            return l_period\n",
    "\n",
    "        elif key=='razon':\n",
    "            return l_reason\n",
    "            \n",
    "    except:\n",
    "        return np.nan\n",
    "        \n",
    "\n",
    "####\n",
    "\n",
    "df['pareja'] = df.relaciones_.apply(get_relationship, relation='pareja', key='persona')\n",
    "df['pareja periodo'] = df.relaciones_.apply(get_relationship, relation='pareja', key='periodo')\n",
    "\n",
    "df['conyugue'] = df.relaciones_.apply(get_relationship, relation='conyugue', key='persona')\n",
    "df['conyugue periodo'] = df.relaciones_.apply(get_relationship, relation='conyugue', key='periodo')\n",
    "df['conyugue razon fin'] = df.relaciones_.apply(get_relationship, relation='conyugue', key='razon')\n",
    "\n",
    "df['progenitor'] = df.relaciones_.apply(get_relationship, relation='progenitor', key='persona')\n",
    "df['hijo/a'] = df.relaciones_.apply(get_relationship, relation='hijo', key='persona')\n",
    "df['hermano/a'] = df.relaciones_.apply(get_relationship, relation='hermano', key='persona')\n",
    "\n",
    "df['maestro/a'] = df.relaciones_.apply(get_relationship, relation='maestro', key='persona')\n",
    "df['alumno/a'] = df.relaciones_.apply(get_relationship, relation='alumno', key='persona')"
   ]
  },
  {
   "cell_type": "code",
   "execution_count": 11,
   "metadata": {
    "ExecuteTime": {
     "end_time": "2020-12-25T17:47:44.695341Z",
     "start_time": "2020-12-25T17:47:44.691625Z"
    }
   },
   "outputs": [],
   "source": [
    "id_cols = ['_id_', '_titulo_', '_url_']\n",
    "\n",
    "text_cols = [\n",
    "        'text', 'text_II', 'text_v2', \n",
    "]\n",
    "\n",
    "\n",
    "attr_cols = [\n",
    "        'nombre artistico', 'nombre nacimiento',\n",
    "        'ocupacion',\n",
    "        'nacimiento lugar', 'nacimiento fecha', 'nacionalidad',\n",
    "        'fallecimiento lugar', 'fallecimiento fecha', 'fallecimiento causa',\n",
    "        'actividad',\n",
    "        'residencia',\n",
    "        'pareja', 'pareja periodo',\n",
    "        'conyugue', 'conyugue periodo', 'conyugue razon fin',\n",
    "        'progenitor', 'hijo/a', 'hermano/a',\n",
    "        'grupo',\n",
    "        'instrumento', 'instrumento modelo', \n",
    "        'premio', 'premio año',\n",
    "        'tipo voz', 'idioma',\n",
    "        'genero', \n",
    "        'sello', 'sello periodo',\n",
    "        'disco', 'disco año',\n",
    "        'single', 'single año', \n",
    "        'religion',  \n",
    "        'estudios', 'maestro/a', 'alumno/a']"
   ]
  },
  {
   "cell_type": "code",
   "execution_count": 12,
   "metadata": {
    "ExecuteTime": {
     "end_time": "2020-12-25T17:47:45.653251Z",
     "start_time": "2020-12-25T17:47:44.696591Z"
    }
   },
   "outputs": [],
   "source": [
    "df = df.filter(id_cols+text_cols+attr_cols)\n",
    "\n",
    "dataset = pd.melt(df, id_vars=id_cols+text_cols, value_vars=attr_cols)\n",
    "\n",
    "# Clean dataset\n",
    "dataset = dataset[dataset['value'].notna()]\n",
    "dataset = dataset[dataset['value'].str.len() != 0]\n",
    "dataset = dataset.explode('value')"
   ]
  },
  {
   "cell_type": "code",
   "execution_count": 13,
   "metadata": {
    "ExecuteTime": {
     "end_time": "2020-12-25T17:47:45.661663Z",
     "start_time": "2020-12-25T17:47:45.654736Z"
    },
    "scrolled": true
   },
   "outputs": [
    {
     "name": "stdout",
     "output_type": "stream",
     "text": [
      "81\n",
      "---\n",
      "Gloria de los Ángeles Treviño Ruiz (Monterrey, 15 de febrero de 1968), conocida artísticamente como Gloria Trevi, es una cantante, actriz, productora y compositora mexicana.\n",
      "-- -- -- \n",
      "Gloria de los Ángeles Treviño Ruiz (Monterrey, 15 de febrero de 1968), conocida artísticamente como Gloria Trevi, es una cantante, actriz, productora y compositora mexicana. \n",
      "\n",
      "** ** **\n",
      "\n",
      "91\n",
      "---\n",
      "Anni-Frid Synni Lyngstad /ˈaniːfriːdˌsʏniː ˈlʏŋstɑːd/ (Ballangen, Narvik, Noruega), también conocida como Frida y por matrimonio Su Alteza Serenísima la princesa Anni-Frid de Reuss, condesa de Plauen, es una cantante y compositora sueca que forma parte del grupo ABBA.\n",
      "-- -- -- \n",
      "Anni-Frid Synni Lyngstad /ˈaniːfriːdˌsʏniː ˈlʏŋstɑːd/ (Ballangen, Narvik, Noruega, ), también conocida como Frida y por matrimonio \"Su Alteza Serenísima\" la princesa Anni-Frid de Reuss, condesa de Plauen, es una cantante y compositora sueca que forma parte del grupo ABBA.\n",
      "\n",
      "** ** **\n",
      "\n",
      "101\n",
      "---\n",
      "Elis Regina Carvalho Costa, conocida popularmente como Elis Regina (Porto Alegre, 17 de marzo de 1945 – São Paulo, 19 de enero de 1982) fue una cantante brasileña considerada una de las mayores representantes del género musical conocido como MPB (música popular brasileña). Su temprana muerte, a los 36 años, se debió a una sobredosis de cocaína y alcohol, aunque se baraja la teoría de que habría sido víctima de la dictadura imperante. Muchos críticos, músicos e intérpretes la consideran una de las mejores cantantes de Brasil.\n",
      "-- -- -- \n",
      "Elis Regina Carvalho Costa, conocida popularmente como Elis Regina (Porto Alegre, 17 de marzo de 1945 – São Paulo, 19 de enero de 1982) fue una cantante brasileña considerada una de las mayores representantes del género musical conocido como MPB (música popular brasileña). Su temprana muerte, a los 36 años, se debió a una sobredosis de cocaína y alcohol, aunque se baraja la teoría de que habría sido víctima de la dictadura imperante. Muchos críticos, músicos e intérpretes la consideran una de las mejores cantantes de Brasil.\n",
      "\n",
      "** ** **\n",
      "\n",
      "111\n",
      "---\n",
      "James Patrick «Jimmy» Page, OBE (Heston, Middlesex, Inglaterra; 9 de enero de 1944) es un músico multiinstrumentista y un virtuoso guitarrista de rock clásico británico; fundador del grupo Led Zeppelin desde 1968 hasta su disolución en 1980, considerado uno de los más grandes, influyentes y versátiles músicos y guitarristas de todos los tiempos.\n",
      "-- -- -- \n",
      "James Patrick «Jimmy» Page, OBE (Heston, Middlesex, Inglaterra; 9 de enero de 1944) es un músico multiinstrumentista y un virtuoso guitarrista de rock clásico británico; fundador del grupo Led Zeppelin desde 1968 hasta su disolución en 1980, considerado uno de los más grandes, influyentes y versátiles músicos y guitarristas de todos los tiempos.\n",
      "\n",
      "** ** **\n",
      "\n"
     ]
    }
   ],
   "source": [
    "for index in range(81,121)[::10]:\n",
    "    \n",
    "    print(index)\n",
    "    print('---')\n",
    "    print(dataset.iloc[index]['text'])\n",
    "    print('-- -- -- ')\n",
    "    print(dataset.iloc[index]['text_v2'])\n",
    "    print('\\n** ** **\\n')"
   ]
  },
  {
   "cell_type": "code",
   "execution_count": 14,
   "metadata": {
    "ExecuteTime": {
     "end_time": "2020-12-25T17:47:45.920380Z",
     "start_time": "2020-12-25T17:47:45.662847Z"
    }
   },
   "outputs": [],
   "source": [
    "dataset_target = dataset.filter(['_id_', 'text', 'text_II', 'text_v2'])\n",
    "dataset_target = dataset_target.drop_duplicates()"
   ]
  },
  {
   "cell_type": "markdown",
   "metadata": {},
   "source": [
    "## Clean text by length"
   ]
  },
  {
   "cell_type": "code",
   "execution_count": 15,
   "metadata": {
    "ExecuteTime": {
     "end_time": "2020-12-25T17:47:45.952079Z",
     "start_time": "2020-12-25T17:47:45.921658Z"
    }
   },
   "outputs": [],
   "source": [
    "def get_length(text: str):\n",
    "    try:\n",
    "        return len(text)\n",
    "    except:\n",
    "        return 0\n",
    "    \n",
    "dataset_target['length'] = dataset_target['text'].apply(get_length)\n",
    "dataset_target['length_v2'] = dataset_target['text_v2'].apply(get_length)\n",
    "\n",
    "dataset_target['length_diff'] = abs(dataset_target['length'] - dataset_target['length_v2'])"
   ]
  },
  {
   "cell_type": "code",
   "execution_count": 16,
   "metadata": {
    "ExecuteTime": {
     "end_time": "2020-12-25T17:47:45.957347Z",
     "start_time": "2020-12-25T17:47:45.953342Z"
    }
   },
   "outputs": [
    {
     "data": {
      "text/plain": [
       "15430"
      ]
     },
     "execution_count": 16,
     "metadata": {},
     "output_type": "execute_result"
    }
   ],
   "source": [
    "dataset_target.shape[0]"
   ]
  },
  {
   "cell_type": "code",
   "execution_count": 17,
   "metadata": {
    "ExecuteTime": {
     "end_time": "2020-12-25T17:47:45.964059Z",
     "start_time": "2020-12-25T17:47:45.958868Z"
    }
   },
   "outputs": [
    {
     "data": {
      "text/plain": [
       "12828"
      ]
     },
     "execution_count": 17,
     "metadata": {},
     "output_type": "execute_result"
    }
   ],
   "source": [
    "equal_text = (dataset_target['length_diff']<15)\n",
    "equal_text.sum()"
   ]
  },
  {
   "cell_type": "code",
   "execution_count": 18,
   "metadata": {
    "ExecuteTime": {
     "end_time": "2020-12-25T17:47:45.971059Z",
     "start_time": "2020-12-25T17:47:45.965336Z"
    }
   },
   "outputs": [
    {
     "data": {
      "text/plain": [
       "2602"
      ]
     },
     "execution_count": 18,
     "metadata": {},
     "output_type": "execute_result"
    }
   ],
   "source": [
    "distinct_text = dataset_target[~equal_text]\n",
    "distinct_text.shape[0]"
   ]
  },
  {
   "cell_type": "code",
   "execution_count": 19,
   "metadata": {
    "ExecuteTime": {
     "end_time": "2020-12-25T17:47:45.976415Z",
     "start_time": "2020-12-25T17:47:45.972425Z"
    }
   },
   "outputs": [
    {
     "data": {
      "text/plain": [
       "1978"
      ]
     },
     "execution_count": 19,
     "metadata": {},
     "output_type": "execute_result"
    }
   ],
   "source": [
    "no_v2 = (dataset_target['length_v2']==0)\n",
    "no_v2.sum()"
   ]
  },
  {
   "cell_type": "code",
   "execution_count": 20,
   "metadata": {
    "ExecuteTime": {
     "end_time": "2020-12-25T17:47:45.984779Z",
     "start_time": "2020-12-25T17:47:45.977456Z"
    }
   },
   "outputs": [
    {
     "data": {
      "text/plain": [
       "13452"
      ]
     },
     "execution_count": 20,
     "metadata": {},
     "output_type": "execute_result"
    }
   ],
   "source": [
    "with_v2 = dataset_target[~no_v2]\n",
    "with_v2.shape[0]"
   ]
  },
  {
   "cell_type": "code",
   "execution_count": 21,
   "metadata": {
    "ExecuteTime": {
     "end_time": "2020-12-25T17:47:54.178188Z",
     "start_time": "2020-12-25T17:47:45.986194Z"
    }
   },
   "outputs": [],
   "source": [
    "just_II = ['10255', '221163', '228466', '250999', '254254', '276867', '300738', \n",
    "           '339247', '342738', '439857', '532906', '536168', '692313', '1008118',\n",
    "           '1172571', '1366033', '1592822', '1678944', '1843858', '1888233',\n",
    "           '2282334', '2998488', '3167394', '4262820', '4382979', '4641395',\n",
    "           '4995825', '5026244', '6063030', '7387304', '7799838', '8004346',\n",
    "           '8873852', '1458700', '1768426', '1386628', '2764984', '3803304',\n",
    "           '128699', '645268', '2722328', '3208993', '3249319', '3335150', \n",
    "           '3973360', '5040083', '5516280', '7979272', '8581417',  ]\n",
    "\n",
    "for j in just_II:\n",
    "    dataset_target['text'] = np.where(dataset_target['_id_']==j,\n",
    "                                      dataset_target['text_II'],\n",
    "                                      dataset_target['text'])\n",
    "    \n",
    "    dataset_target['text_II'] = np.where(dataset_target['_id_']==j,\n",
    "                                      '',dataset_target['text_II'])    \n",
    "\n",
    "####\n",
    "\n",
    "combine_I_and_II = ['122055', '213688', '921307', '1004060', '1252242',\n",
    "                    '2206656', '2436111', '2488196', '2881530', '3750133',\n",
    "                    '4892952', '4895423', '5013136', '5416951', '5576679',\n",
    "                    '5848741', '6342499', '6403551', '6518953', '6577116',\n",
    "                    '6824893', '6909202', '7330051', '7335553', '7336665',\n",
    "                    '7537844', '7559444', '8234088', '8544497', '8730283',\n",
    "                    '447972', '4786100', '4871790', '368877', '1371932',\n",
    "                    '1364698', '1354770', '1344009', '1320410', '1318461',\n",
    "                    '1289725', '1260773', '1120770', '1613988', '2094695',\n",
    "                    '2190186', '2254983', '2321873', '2322613', '2400068',\n",
    "                    '2403514', '2424325', '2424345', '2451316', '2459403',\n",
    "                    '2470225', '2764370', '3045980', '3080841', '3183844',\n",
    "                    '3249906', '3288430', '3288458', '3356740', '3571080',\n",
    "                    '3821670', '3905448', '3909060', '4323309', '4342526',\n",
    "                    '4349509', '4362455', '4359958', '4374278', '4377104', \n",
    "                    '4466307', '4801584', '4808064', '4838149', '5101120',\n",
    "                    '5429015', '5440728', '5455716', '5488082', '5597506',\n",
    "                    '5659679', '5721359', '5803060', '5827970', '6131343',\n",
    "                    '6178244', '6523770', '6619162', '6632523', '6643696',\n",
    "                    '6957676', '7038031', '7129838', '7331794', '7351014',\n",
    "                    '7375846', '7826931', '8402744', '8559157', '3333360',\n",
    "                    '7334132', '1572264', '1519',\n",
    "                    ]\n",
    "\n",
    "for c in combine_I_and_II:\n",
    "    dataset_target['text'] = np.where(dataset_target['_id_']==c,\n",
    "                                 np.where(dataset_target['text_II'].str[-1]=='.',\n",
    "                                       dataset_target['text']+dataset_target['text_II'],\n",
    "                                       dataset_target['text']+dataset_target['text_II'].str[0].str.lower()+dataset_target['text_II'].str[1:]),\n",
    "                                       dataset_target['text'])\n",
    "    \n",
    "    dataset_target['text_II'] = np.where(dataset_target['_id_']==c,\n",
    "                                      '',dataset_target['text_II'])  \n",
    "\n",
    "####\n",
    "    \n",
    "v2 = ['430908', '1328669', '2985414', '3780017', '4363453', '4375538', '4816076',\n",
    "      '4871987', '5233188', '5996913', '7282094', '7311356', '7315248', '7318540',\n",
    "      '7391850', '7474329', '7826306', '8002030', '8305240', '8393838', '8047100',\n",
    "      '7304516', '7509343', '8430136', ]\n",
    "\n",
    "for v in v2:\n",
    "    dataset_target['text'] = np.where(dataset_target['_id_']==v,\n",
    "                                     dataset_target['text_v2'],\n",
    "                                     dataset_target['text'])"
   ]
  },
  {
   "cell_type": "code",
   "execution_count": 22,
   "metadata": {
    "ExecuteTime": {
     "end_time": "2020-12-25T17:47:54.194868Z",
     "start_time": "2020-12-25T17:47:54.179459Z"
    }
   },
   "outputs": [],
   "source": [
    "dataset_target['length'] = dataset_target['text'].apply(get_length)\n",
    "dataset_target['length_v2'] = dataset_target['text_v2'].apply(get_length)"
   ]
  },
  {
   "cell_type": "markdown",
   "metadata": {},
   "source": [
    "### Split text into sentences"
   ]
  },
  {
   "cell_type": "code",
   "execution_count": 23,
   "metadata": {
    "ExecuteTime": {
     "end_time": "2020-12-25T17:47:56.009392Z",
     "start_time": "2020-12-25T17:47:54.197205Z"
    },
    "scrolled": true
   },
   "outputs": [
    {
     "name": "stdout",
     "output_type": "stream",
     "text": [
      "-- -- --\n",
      " José Plácido Domingo Embil (Madrid, 21 de enero de 1941), conocido como Plácido Domingo, es un cantante, director de orquesta, productor y compositor español,  \n",
      "-- -- --\n",
      " María Concepción Alonso Bustillo (Cienfuegos, Cuba, 29 de junio de 1957), más conocida como María Conchita Alonso, es una actriz, cantante, compositora, exreina de belleza y filántropa venezolana, nacionalizada estadounidense en 2007  \n",
      "-- -- --\n",
      " Ian MacKaye (pronunciado Mac-Ai), (16 de abril de 1962) es un músico estadounidense, conocido por ser el fundador y el dueño de  \n",
      "-- -- --\n",
      " Óscar Sánchez Pérez (Sevilla, Andalucía, 24 de febrero de 1977), en sus inicios musicales conocido como DJ Blake y actualmente conocido como Acción Sánchez, es un productor  \n",
      "-- -- --\n",
      " Christian «Flake» Lorenz (16 de noviembre de 1966 en Berlín Oriental) es un músico alemán, teclista de la banda de Neue Deutsche Härte Rammstein y antiguo integrante en la banda de punk rock Feeling B.  \n",
      "-- -- --\n",
      " Curt Smith (nacido el 24 de junio de 1961, Bath, Somerset), es un cantante inglés, bajista, tecladista  \n",
      "-- -- --\n",
      " John Francis Anthony Pastorius III (Norristown, 1 de diciembre de 1951 − Fort Lauderdale, 21 de septiembre de 1987), conocido como Jaco Pastorius, fue un bajista, compositor, arreglista y productor  \n",
      "-- -- --\n",
      " Mikel Laboa Mancisidor (San Sebastián, 15 de junio de 1934 - 1 de diciembre de 2008) fue uno de los más importantes cantautores en euskera del final del siglo  \n",
      "-- -- --\n",
      " Paul Julian Banks (n. Clacton-on-Sea, Essex, Inglaterra; 3 de mayo de 1978) es el vocalista y guitarrista de la banda neoyorquina Interpol;  \n",
      "-- -- --\n",
      " Andrew Wood (Washington D.C.; 8 de enero de 1966 - 19 de marzo de 1990) fue el vocalista de las  \n",
      "-- -- --\n",
      " Sean John Combs (Harlem, Nueva York; 4 de noviembre de 1969), es un rapero, cantante, coreógrafo, actor y productor musical estadounidense ganador de cuatro Grammys  \n",
      "-- -- --\n",
      " Manuel Fernández Moreno, conocido artísticamente como Tío Parrilla (Jerez de la Frontera, 1904-1980), fue un bailaor, tocaor y cantaor español de flamenco, que llegó a desarrollar su arte hasta que finalmente perdió la voz,  \n",
      "-- -- --\n",
      " Michael J. Romeo (Nueva York, 6 de marzo de 1968) es el guitarrista principal de la banda de metal progresivo Symphony X.  \n",
      "-- -- --\n",
      " Xinkoa es como se conoce artísticamente a Rodrigo Ballesteros, es un productor, Dj y MC natural de Morón de la Frontera (Sevilla)  \n",
      "-- -- --\n",
      " Oscar Esperanza Palavecino conocido como Chaqueño Palavecino (paraje Rancho El Ñato, 18 de diciembre de 1959) es un cantor argentino de música folclórica  \n",
      "-- -- --\n",
      " Ewa Podleś (Varsovia, 26 de abril de 1952) es una contralto dramática polaca,  \n",
      "-- -- --\n",
      " Felix Mendelssohn (Hamburgo, -Leipzig), cuyo nombre completo era Jakob Ludwig Felix Mendelssohn Bartholdy, fue un compositor, director de orquesta y pianista de música romántica alemán, y hermano de la también pianista y compositora Fanny Mendelssohn  \n",
      "-- -- --\n",
      " Walter Ferguson, (7 de mayo de 1919, Guabito, Panamá) es un calypsonian costarricense conocido como Gavitt (en Cahuita se le conoce también como Segundo)  \n",
      "-- -- --\n",
      " Hélène Aurore Alice Rizzo (n. 26 de febrero de 1971, Six-Fours-les-Plages, Francia) conocida como Hélène Ségara es una cantante francesa que alcanzó la fama por su papel de Esmeralda en el musical de Víctor Hugo Notre-Dame de París (o El Jorobado de Notre-Dame)  \n",
      "-- -- --\n",
      " Lluís Gavaldà i Roig (Constantí, Tarragona; 15 de abril de 1963) es un cantante español y principal compositor del grupo Els Pets,  \n",
      "-- -- --\n",
      " Tom Scholz es un músico estadounidense, famoso por ser guitarrista de la banda  \n",
      "-- -- --\n",
      " Hernán Cattáneo (Buenos Aires, 1965) es un DJ y productor argentino, que se dedica principalmente al Progressive House En el año 2018, ganó el premio al mejor DJ en este género otorgado por DJ Awards de Ibiza  \n",
      "-- -- --\n",
      " Gustavo Rowek (Buenos Aires, 19 de marzo de 1963) es un baterista argentino de heavy metal reconocido por ser uno de los mentores del heavy metal en Argentina gracias a su participación en:  \n",
      "-- -- --\n",
      " David Summers Rodríguez (Madrid, 26 de febrero de 1964) es un músico español, reconocido por ser el vocalista, bajista y compositor de la banda de rock Hombres  \n",
      "-- -- --\n",
      " Gerardo Enciso (Guadalajara, México, 23 de abril de 1962) es un compositor y músico mexicano, nacido en la ciudad de Guadalajara,  \n",
      "-- -- --\n",
      " Nico Fidenco (nacido el 24 de enero de 1933 en Roma) es un cantautor italiano cuyo nombre real es: Domenico Colarossi  \n",
      "-- -- --\n",
      " Dallas Taliaferro Taylor (Ocala, 17 de mayo, 1980) es un músico estadounidense, vocalista de las bandas Everett y Maylene and the Sons of Disaster  \n",
      "-- -- --\n",
      " Miguel Ángel Poveda León (Barcelona, 13 de febrero de 1973) es un cantaor de flamenco español conocido con el nombre artístico de Miguel Poveda  \n",
      "-- -- --\n",
      " Ariel Minimal (nacido Ariel Gustavo Sanzo) es el cantante y guitarrista del grupo de rock argentino Pez  \n",
      "-- -- --\n",
      " Michael David McCready (5 de abril de 1966, Pensacola, Florida) es un músico estadounidense, conocido por ser el guitarrista principal y fundador de Pearl Jam, junto a Jeff Ament y Stone Gossard  \n",
      "-- -- --\n",
      " Stefano Fontana, más conocido como Stylophonic (Milán, Lombardía, 2 de octubre de 1970), es un disc jockey italiano  \n",
      "-- -- --\n",
      " Treku Armendariz es un baterista español  \n",
      "-- -- --\n",
      " Julian Keith Levene (Londres, Inglaterra, 18 de julio de 1957) es un guitarrista y compositor británico conocido principalmente por su participación en Public Image Ltd.  \n",
      "-- -- --\n",
      " (12 de julio de 1966 - 17 de julio de 2011), mejor conocido como Taiji, fue un músico y compositor japonés, famoso por su trabajo en la popular banda de metal X Japan  \n",
      "-- -- --\n",
      " José María Montoya López, conocido artísticamente como Tate Montoya (Hinojal, Cáceres, c. 1948-Sevilla, 23 de mayo de 2013)  \n",
      "-- -- --\n",
      " Roberto Alfonso Farrell, conocido artísticamente como Bobby Farrell (Aruba, 6 de octubre de 1949-San Petersburgo, Rusia, 30 de diciembre de 2010), fue un cantante arubeño-neerlandés, conocido por ser el único cantante masculino del grupo pop Boney M.  \n",
      "-- -- --\n",
      " Manuel Álvarez-Beigbeder Pérez, más conocido como Manuel Alejandro (Jerez de la Frontera, Cádiz, 21 de febrero de 1933), es un compositor,  \n",
      "-- -- --\n",
      " Javier Retamozo (Buenos Aires, 13 de febrero de 1972), es un músico y teclista de heavy metal y hard rock de Argentina  \n",
      "-- -- --\n",
      " Kian John Francis Egan, más conocido como Kian Egan (n. el 29 de abril de 1980) es uno de los cuatro (anteriormente cinco) miembros de la banda irlandesa Westlife  \n",
      "-- -- --\n",
      " Katja Ebstein (9 de marzo de 1945) es una cantante alemana nacida en la ciudad de Girlachsdorf, hoy llamada  \n",
      "-- -- --\n",
      " Wilma De Angelis (Milán, 8 de abril de 1931) es una cantante y conductora de TV italiana  \n",
      "-- -- --\n",
      " Al Pitrelli es un guitarrista estadounidense nacido el 29 de septiembre de 1962 en Nueva York, EE. UU.  \n",
      "-- -- --\n",
      " Peter Edward Baker (Lewisham, Londres, 19 de agosto de 1939-Canterbury, Inglaterra, 6 de octubre de 2019), más conocido como Ginger Baker, fue un músico y cantautor británico, conocido por su trabajo con el grupo Cream y por sus numerosas asociaciones con la música del nuevo mundo, el uso de las influencias africanas en sus trabajos y de otras diversas colaboraciones, como su trabajo con las bandas Hawkwind y Public Image Ltd.  \n",
      "-- -- --\n",
      " William \"Bill\" Thomas Berry (Duluth, Minnesota, Estados Unidos, 31 de julio de 1958) es un músico estadounidense, ex-baterista de la banda estadounidense de rock R.E.M.  \n",
      "-- -- --\n",
      " Christopher John Foreman (nacido el 8 de agosto de 1956 en Londres), conocido con el sobrenombre de Chrissy Boy, es un guitarrista inglés principalmente conocido por ser miembro de la banda de ska Madness  \n",
      "-- -- --\n",
      " Leo Filloy es un pianista, teclista y programador nacido en Córdoba (Argentina) aunque parte de su carrera musical la ha desarrollado en Andalucía (España)  \n",
      "-- -- --\n",
      " Tata Güines (nacido Federico Arístides Soto Alejo), percusionista cubano (1930 - 2008)  \n",
      "-- -- --\n",
      " Graciela Isabel Jakavičius, más conocida como Marcia Bell (Buenos Aires, 15 de abril de 1951)  \n",
      "-- -- --\n",
      " Issac Delgado (nombre completo Issac Felipe Delgado-Ramírez) (Marianao, Provincia de La Habana, 11 de abril de 1962) es un cantante Cubano de salsa  \n",
      "-- -- --\n",
      " Julio Mazziotti (Mendoza, Argentina, 8 de diciembre de 1960) es un pianista y compositor argentino  \n",
      "-- -- --\n",
      " Gabriella Lucia Cilmi (Melbourne, 10 de octubre de 1991) es una cantante australiana de música Soul, Jazz y R&B  \n",
      "-- -- --\n",
      " Tite Curet Alonso (12 de febrero de 1926 - 5 de agosto de 2003) fue un reconocido compositor de más de 2 000 canciones de salsa, bolero y baladas  \n",
      "-- -- --\n",
      " Claudio Morán es el nombre artístico de Alfonso Alejandro Morán Sirumbal, un cantante de música variada especializado en el género tropical del Perú, conocido en varios países por interpretar la letra del tema musical \"Enfermera\" con la orquesta de Ray Cuestas, y en Norteamérica en particular por ser cantante del tema \"Paloma ajena\" de \"Banda Techno\"  \n",
      "-- -- --\n",
      " Lesky es uno de los MCs componentes de LaOdysea y Versoterismo grupos de rap españoles de Elda (y Elche) (Alicante)  \n",
      "-- -- --\n",
      " Dj Joaking es un dj, breakdancer, beatboxer y productor musical procedente de Elda (Alicante), es actualmente el dj del grupo musical Arma Blanca  \n",
      "-- -- --\n",
      " Manuel Veleta (7 de febrero de 1974, 34 años) es un cantante y compositor español  \n",
      "-- -- --\n",
      " Arthur Alexander \"Aljoscha\" Rompe (20 de octubre de 1947 en Berlín Oriental - 23 de noviembre de 2000 en Berlín) fue un músico de punk alemán, líder de la banda Feeling B.  \n",
      "-- -- --\n",
      " Ira Gershwin (Nueva York, 6 de diciembre de 1896 - Beverly Hills, 17 de agosto de 1983) fue un destacado letrista de musicales de teatro estadounidense, que colaboró con su hermano menor ―el compositor George Gershwin― para crear algunas de las canciones más memorables del siglo  \n",
      "-- -- --\n",
      " Bobby Ray Simmons (nacido el 15 de noviembre de 1988), más conocido como B.o.B, es un rapero, cantante, compositor y productor discográfico estadounidense, conocido mundialmente por su sencillo Airplanes con Hayley Williams, por su colaboración en la canción Price Tag de Jessie J  \n",
      "-- -- --\n",
      " Karima Francis es una cantautora británica nacida en la localidad de Blackpool, Reino Unido  \n",
      "-- -- --\n",
      " Federico Casado Algrenti Caracolillo, fue un bailarín y bailaor español nacido en Cádiz el y fallecido en Sevilla, el  \n",
      "-- -- --\n",
      " Kaci Deanne Brown (7 de julio de 1988) es una cantante de pop y R&B estadounidense  \n",
      "-- -- --\n",
      " Ken Lockie es un cantante y teclista británico que formó parte de bandas new wave, como Cowboys International y Public Image Ltd.  \n",
      "-- -- --\n",
      " Larry Garner (Nueva Orleans, Luisiana; 8 de julio de 1952), es un músico y guitarrista de blues estadounidense; mejor conocido por su álbum de 1994 Too blues  \n",
      "-- -- --\n",
      " Jan Atle Åserød es un batería que formó parte de las bandas noruegas Immortal, Old Funeral y Amputation utilizando los apodos Padden y Kolgrim  \n",
      "-- -- --\n",
      " Jerry Weiss, es un trompetista, violinista y trombonista norteamericano, nacido en New York, el 1 de mayo de 1946  \n",
      "-- -- --\n",
      " (n. 7 de febrero de 1996 en la prefectura de Saitama, Japón) Es una excantante IDOL y fue miembro de los grupos Cute y Petitmoni V.趣味はYouTuberのメガネのヒカキン様と遊ぶこと週5回もヒカキンと遊ぶ。  \n",
      "-- -- --\n",
      " Julio César Meza Leones, (Cartagena, Bolívar; 13 de septiembre de 1980) es un cantante, compositor, bailarín y actor colombiano, fue el ganador de El Factor X en su primera temporada, en 2005 fue un concurso producido por el canal RCN Televisión  \n",
      "-- -- --\n",
      " John Joseph \"Johnny\" Burnette (25 de marzo de 1934 –14 de agosto de 1964) fue un cantante y compositor de Rock and Roll,  \n",
      "-- -- --\n",
      " Juan Carmona Carmona, de nombre artístico Juan Habichuela (Granada, España, 12 de agosto de 1933 - Madrid, 30 de junio de 2016), fue un guitarrista gitano español de flamenco  \n",
      "-- -- --\n",
      " Tony Punk es un músico de origen español, principalmente conocido por haber sido bajista del grupo de pop Los Guapos, productor, DJ y colaborador de radio  \n",
      "-- -- --\n",
      " Peq PIT es el vocalista de Pscircosis grupo que  \n",
      "-- -- --\n",
      " Shaun Simon es un escritor de cómics estadounidense y exteclista de la banda de indie rock Pencey Prep  \n",
      "-- -- --\n",
      " Oliver Gannon es un guitarrista canadiense de jazz  \n",
      "-- -- --\n",
      " Abs Love (Richard Abidin Breen,nacido el 29 de junio de 1979 en Londres, Inglaterra)  \n",
      "-- -- --\n",
      " Juan Sebastián Gutiérrez (Buenos Aires, Argentina; 3 de junio de 1962) más conocido por su nombre artístico Juanse (JUANSE), es un cantautor argentino, líder de Ratones Paranoicos desde el inicio hasta el final de la banda (1984 - 2011);  \n",
      "-- -- --\n",
      " Héctor Varela (Buenos Aires, Argentina, 29 de enero de 1914 - ibídem, 30 de enero de 1987) fue un  \n",
      "-- -- --\n",
      " Tony Niemistö, mejor conocido como Tony Reno (Danderyd, Estocolmo, Suecia, 10 de febrero de 1963), es un músico sueco de ascendencia finlandesa  \n",
      "-- -- --\n",
      " Dennis joel Leon Falero (n. Bellavista, Perú; 21 de febrero de 1981), más conocido como Dennis Leon, es un productor musical a nivel latinoamericano que ha trabajado como compositor, vocal coach, director musical, arreglista, pianista e ingeniero de grabación de los cantantes latinoamericanos: Tercer Cielo (Estados Unidos)& (República Dominicana), Maelo Ruiz (Puerto Rico), Ángel López ex de Son By Four (Estados Unidos), Olga Tañon (Puerto Rico), Victor Drija (Venezuela), Tony Vega (Puerto Rico), Willie Gonzales (Puerto Rico), Omar Geles (Colombia), Hildemaro (Venezuela), Eddie Santiago (Puerto Rico), Gabriel Coronel (Venezuela), Paquito Guzman (Puerto Rico), Melo Do Tchaco (Brasil), Tony Reggae (Colombia), Rumband (Venezuela), Miles Peña (Cuba), Yijen Azam (Venezuela, A.cinco (Venezuela), José Scocci (Venezuela, Porfi Jiménez (República Dominicana), Cuentos de la Cripta (Colombia), Luisito Carrion (Puerto Rico), Los 50 de Joselito (Colombia), Aldo Armas (Venezuela), Nino Zegarra (Puerto Rico), Noel Reyes (Venezuela, el Beisbolista y cantante Omar Vizquel (Venezuela), Samir Bazzi (Venezuela), Raga Salsa (Venezuela), Proyecto A (Venezuela), Salsamania (Venezuela), Dany Escorcia (Venezuela), Orquesta Las Chiquillas de Stalin (Venezuela), Grupo los Niche (Colombia), Orquesta La Dimensión Latina (Venezuela), Orquesta Chuchu (Venezuela), Gemelos (Venezuela), Erick Franchesky (Venezuela), Paquito Barón (Venezuela), Teresa Mora (Venezuela) Wilmer Lozano (Venezuela), Avelino Romero (Venezuela), Región 4 (Venezuela), Alexis Gonzáles (Venezuela), Rolando Padilla (Venezuela), Jessy (Venezuela), Willman Cano (Venezuela), Neicy Campos (Venezuela), Kimberly García (Venezuela), Juan Carlos Lobo (Venezuela), Neguito Borjas (Venezuela), Juan Carlos Ortiz (Venezuela), Davis Bravo (Venezuela), Jhonny Pernia (Venezuela) Djembe (Venezuela), Guarapop (Venezuela), Manuel Coco Sosa (Venezuela), Luis Moro (Venezuela), Grupo Madera (Venezuela), Baruanda (Venezuela), Davis Bravo (Venezuela), Delfín Reyes (Colombia), Luis Álvarez (Venezuela), Rossanelle (Venezuela), Vladimir Lozano (Venezuela), Jhonny Arrioja (Venezuela), Orquesta Chuchu (Venezuela), Jimmy el León (Venezuela), Roxana (Venezuela), Diveana (Venezuela), Lugo (Venezuela), Pasión Juvenil (Venezuela), Calle Ciega (Venezuela), Milenko Podunavac (Venezuela), Los Kachorros (Venezuela), Josmar (Venezuela), Brian becker(Venezuela), Toñito León (Venezuela), Trina Medina (Venezuela), Pedro Brull (Puerto Rico) entre otros…  \n",
      "-- -- --\n",
      " Laura Denisse (n. Monterrey, Nuevo León; 25 de noviembre de 1988 es una cantante y compositora mexicana  \n",
      "-- -- --\n",
      " Carlos del Puerto es un bajista y contrabajista cubano, conocido por encima de todo por su participación en el grupo cubano de salsa-fusión Irakere  \n",
      "-- -- --\n",
      " Néstor Jesús Zavarce Sierralta (Jadacaquiva, Península de Paraguaná, Estado Falcón; 9 de abril de 1936 – Caracas, Venezuela; 27 de agosto de 2010), conocido comúnmente como Néstor Zavarce, fue un cantante y actor venezolano colombiano  \n",
      "-- -- --\n",
      " Tien Fu-chen (Condado de Hsinchu, Taiwán, 30 de marzo de 1983), mejor conocida bajo su nombre artístico de Hebe Tien, es una cantante, actriz, y presentadora de televisión taiwanesa, miembro del grupo pop S.H.E  \n",
      "-- -- --\n",
      " Alexander Ray Torres (nacido el 15 de septiembre de 1987 en Casa Grande, Arizona), es el exguitarrista de las bandas Alesana, Greeley Estates y Eyes Set to Kill;  \n",
      "-- -- --\n",
      " (Murang'a, 1 de septiembre de 1986) ―también conocida como STL―  \n"
     ]
    },
    {
     "name": "stdout",
     "output_type": "stream",
     "text": [
      "-- -- --\n",
      " Solomon Popoli Linda (1909 - 8 de octubre 1962),  \n",
      "-- -- --\n",
      " Raquel Lebrón, arpista paraguaya, ofreció numerosos conciertos y conferencias sobre las características del arpa paraguaya en Paraguay, Uruguay, Argentina, Brasil, Bolivia, Perú, Canadá, Sudáfrica, Medio Oriente, Asia y Europa, presentándose en los más importantes teatros y la televisión  \n",
      "-- -- --\n",
      " Lize Marke, nacida Liliane Couck, (Wemmel, Bélgica, 1 de diciembre de 1936) es una cantante belga que es conocida por haber representado a Bélgica en el Festival de la Canción de Eurovisión 1965, con la canción \"Als het weer lente is\"  \n",
      "-- -- --\n",
      " Carla Patricia Morrison Flores (Tecate, Baja California, 19 de julio de 1986), más conocida como Carla  \n",
      "-- -- --\n",
      " Michael John David Westbrook (High Wycombe, Inglaterra, 21 de marzo de 1936) es un pianista, tubista, compositor, arreglista y director de orquesta de jazz inglés-  \n",
      "-- -- --\n",
      " Chema Lara (Osuna, provincia de Sevilla, 20 de mayo de 1970) es un músico y periodista español  \n",
      "-- -- --\n",
      " Máximo Quispe, \"Rey de las Natachas\" (Victor Fajardo - Ayacucho Perú)  \n",
      "-- -- --\n",
      " Gustavo José Pena Casanova, apodado «El Príncipe» (2 de diciembre de 1955 en Montevideo - 13 de mayo de 2004), fue un músico uruguayo cantautor que luego de su muerte se convierte en un músico de culto  \n",
      "-- -- --\n",
      " Albert Schoenhut (* Wurtenberg, Alemania, 1848 - † Filadelfia, (Estados Unidos), 1912)  \n",
      "-- -- --\n",
      " Vinicio Antonio Franco Rodríguez (nacido el 14 de septiembre de 1933 en Puerto Plata) Vinicio Franco es uno de los cantantes más importantes e icónicos de merengue en República Dominicana  \n",
      "-- -- --\n",
      " Niurka Curbelo (La Habana, Cuba) es una cantautora y productora con una trayectoria internacional  \n",
      "-- -- --\n",
      " Félix Danilo Gómez Bosquez (Panamá, Panamá, 26 de agosto de 1980), conocido artísticamente como Flex (antiguamente Nigga), es un cantautor panameño de reggae, reggae en español y reguetón  \n",
      "-- -- --\n",
      " Liz Mitchell (nacida Elizabeth Mitchell Rebecca, 12 de julio de 1952, Clarendon, Jamaica) es una cantante jamaiquina, más conocida por ser la excantante del grupo de música disco de la década de 1970, Boney M  \n",
      "-- -- --\n",
      " Dorantes (Lebrija, 1969), conocido artísticamente como Dorantes es un pianista gitano español de flamenco y jazz  \n",
      "-- -- --\n",
      " Kang Hee Gun (Hangul:강희건, Hanja: 姜熙建) (24 de febrero de 1978) más conocido como Gary o Garie (개리), es un rapero, letrista, compositor y productor surcoreano, conocido por ser miembro de \"Leessang\" y por haber participado en el programa de variedades Running Man  \n",
      "-- -- --\n",
      " Suada Ələkbərova (n. 2001) es una joven cantante de Azerbaiyán  \n",
      "-- -- --\n",
      " Adolfo Mejía Navarro (5 de febrero de 1905 - 6 de julio de 1973) fue un compositor y músico colombiano  \n",
      "-- -- --\n",
      " Jeon Boram (Hangul: 전보람; Hanja: 全보람; Katakana: チョン ボラム) (22 de marzo de 1986), más conocida como Boram, es una cantante y actriz surcoreana,integrante del grupo femenino T-ara desde el 2009 hasta 2017  \n",
      "-- -- --\n",
      " Úrsula Giovanna Sebastián Rodríguez más conocida como Úrsula Giovanna, o simplemente como Giovanna, es una actriz, cantante, compositora y periodista española  \n",
      "-- -- --\n",
      " Wendy Lands es una cantante y escritora de canciones canadiense, su álbum de debut fue el siguiente: Angels & Ordinary Men (1996)  \n",
      "-- -- --\n",
      " Myrtha Raia (Buenos Aires, 11 de septiembre de 1928 - Tucumán, el 29 de enero de 2013)  \n",
      "-- -- --\n",
      " Mariano Cívico (Ponce, Puerto Rico; 17 de septiembre de 1951 - Madrid, España, 21 de febrero de 2013) fue un cantante y músico puertorriqueño  \n",
      "-- -- --\n",
      " Horacio Palma (nacido en Buenos Aires, Argentina; 29 de abril de 1931 y fallecido el 21 de octubre de 2016) es un cantor e intérprete de tangos argentino  \n",
      "-- -- --\n",
      " Gustavo Noe Zavala (nacido el 5 de septiembre de 1960 en la ciudad de Buenos Aires, Argentina) es el fundador, bajista, tecladista, autor, compositor principal, y líder de las bandas argentinas de Heavy Metal  \n",
      "-- -- --\n",
      " María Magdalena Sánchez (Puerto Cabello, 9 de abril de 1915-Palo Negro, 18 de agosto de 2005) fue una cantante venezolana de música folclórica, conocida en su país como La Reina del Cantar Venezolano  \n",
      "-- -- --\n",
      " Ultra Naté Wyche (nacida en Havre de Grace, Maryland, el 20 de marzo de 1968) es una cantante estadounidense que ha incursionado en varios géneros como R&B, soul, house  \n",
      "-- -- --\n",
      " Alejandro Algara Menéndez (25 de enero de 1928-18 de abril de 2020) fue un tenor lírico mexicano que alcanzó la fama durante las décadas de 1950, 1960 y 1970, por ser intérprete de las canciones del músico poeta Agustín Lara-  \n",
      "-- -- --\n",
      " Maria Everdina Reijs, conocida como Rita Reys (Róterdam, 21 de diciembre de 1924 - Breukelen, 28 de julio de 2013),  \n",
      "-- -- --\n",
      " Roxy Dora Petrucci (Rochester; 17 de marzo de 1962) es una músico estadounidense, conocida por ser la baterista de la banda de glam metal Vixen y por ser la cofundadora junto a su hermana Maxine de Madam X.  \n",
      "-- -- --\n",
      " Kim Myung Soo (Seúl, Corea del Sur, 13 de marzo de 1992), conocido artísticamente como L, es un cantante, bailarín, modelo y actor surcoreano  \n",
      "-- -- --\n",
      " Raúl Campos Nieto (2 de octubre de 1980), más conocido como Raúl Beatmac, es un actor, autor, director y músico de Madrid, conocido por sus habilidades de improvisación teatro-musical y live looping, con vídeos cómicos virales como Amenaza Fail que se han compartido en la red decenas de miles de veces, y sobre el que se ha dicho que es \"el hombre orquesta del siglo XXI\" (Matías Prats en Antena 3 Noticias), o \"un tipo capaz de sonar igual de potente que los Chemical Brothers pero sólo con su boca\" (programa Carne Cruda de Radio 3)  \n",
      "-- -- --\n",
      " Henry Augustus Stephen Pierre, (Cabimas, Estado Zulia, Venezuela, 15 de julio de 1941), más conocido como Henry Stephen, es un músico y actor de telenovelas de Venezuela, considerado como uno de los primeros introductores del rock and roll en Venezuela  \n",
      "-- -- --\n",
      " Tony Johnny Moore (Los Ángeles, California; 16 de enero de 1989), más conocido por su nombre artístico Rednek, es un productor estadounidense de música electrónica de los géneros Bass  \n",
      "-- -- --\n",
      " Valesca Reis Santos más conocida como Valesca Popozuda o simplemente Valesca (Rio de Janeiro, 6 de octubre de 1978), es una productora, cantante de funk carioca, compositora y empresaria brasileña conocoda como la Reina del Funk  \n",
      "-- -- --\n",
      " Madison Elle Beer (Nueva York, Estados Unidos, 5 de marzo de 1999) es una cantante productora y escritora  \n",
      "-- -- --\n",
      " Dinah Jane Milika Ilaisaane Hansen Amasio (22 de junio de 1997) conocida simplemente como Dinah Jane, es una cantante,  \n",
      "-- -- --\n",
      " Jesús Guerra Zayas (Cienfuegos, 20 de febrero de 1920- Alicante, 31 de enero de 1995), fue un músico, compositor y arreglista cubano  \n",
      "-- -- --\n",
      " Alfred Berengena es un batería catalán conocido por su versátil forma de tocar y sus libros de batería Doble Bombo Avanzado (Carisch 2011) y Essential Double Bass drumming (Dinsic 2005)  \n",
      "-- -- --\n",
      " José Ceglie apodado el Cheli (Buenos Aires, Argentina; 20 de noviembre de 1883 - Bernal, Buenos Aires, Argentina; 31 de octubre de 1957) fue un popular músico, compositor, bandoneonista y actor argentino  \n",
      "-- -- --\n",
      " Ardie van Beek (Breda, Países Bajos, 14 de junio de 1975), más conocido como Funkerman es un productor y DJ holandés quien junto a Fedde le Grand y Raf Jansen fundaron en 2004 el sello discográfico Flamingo Recordings  \n",
      "-- -- --\n",
      " Duina del Mar Cantautora, productora y arreglista, multifacética y ecléctica, bailarina y multi instrumentista  \n",
      "-- -- --\n",
      " Timur Mikaílovich Kerímov (Тимур Микаилович Керимов en ruso) o Teymur Mikayıl oğlu Kərimov (en azerí), conocido artísticamente como Timur Rodríguez (Тимур Родригез en ruso) (14 de octubre de 1979 en Penza, Óblast de Penza) es un cantante, actor y presentador ruso de origen azerí conocido por su participación en programas como Comedy Club y Yúzhnoye Bútovo a parte de presentar otros programas como Krokodil, Sexy Chart y Tantsy bez právil  \n",
      "-- -- --\n",
      " Víctor Ricardo Mac-Namara Riquelme (Santiago, 17 de junio de 1975) es el líder, compositor y guitarrista de las banda chilena de death metal Thornafire  \n",
      "-- -- --\n",
      " Denis Alexandrovich Shaforostov (Jartsyzsk, 4 de mayo de 1992) conocido también como Denis Stoff,  \n",
      "-- -- --\n",
      " Thomas Joseph Ratliff (Burbank, California, Estados Unidos, 18 de octubre de 1981) más conocido por su nombre artístico Tommy Joe Ratliff, es un guitarrista, modelo y compositor estadounidense  \n",
      "-- -- --\n",
      " Santiago Garza, (24 de mayo de 1979) conocido como Tiago, es un cantante, conductor y actor  \n",
      "-- -- --\n",
      " == Sobre bloqueos, acoso y artículos candidatos AB/AD ==  \n",
      "-- -- --\n",
      " Vaidas Baumila (n. Vilna, Unión Soviética, 28 de marzo de 1987) es un cantante lituano, que llegó a la fama gracias a la participación en un programa musical de la televisión lituana llamado \"Dangus\" (\"Cielo\")  \n",
      "-- -- --\n",
      " Cameron James Liddell (Nottingham, 13 de junio de 1989) es un músico y compositor británico, guitarrista rítmico de la banda de metalcore Asking Alexandria  \n"
     ]
    },
    {
     "name": "stdout",
     "output_type": "stream",
     "text": [
      "-- -- --\n",
      "   \n",
      "-- -- --\n",
      " Augusto Osenda (n. Buenos Aires, Argentina, 23 de agosto de 1978) es un cantautor de Rock de Argentina, productor musical y miembro votante en La Academia Latina de la Grabación (  \n",
      "-- -- --\n",
      " Edu Quindós, cantante, músico, compositor, actor y modelo publicitario español, conocido por sus dos álbumes en solitario Stay with me (2011), Hello (2013) y Still Believe (2016) y por ser vocalista y compositor de varios de los temas de la banda Plebeya  \n",
      "-- -- --\n",
      " Alondra Santos (El Monte, California, 4 de febrero de 2002) es una cantante, actriz, y modelo mexicano-estadounidenses  \n",
      "-- -- --\n",
      " Michael Richard Lewis (n. Pontypridd, nacido el 17 de agosto de 1975) es el guitarrista actual de No Devotion y ex-guitarristas de la banda Lostprophets y Public Disturbance  \n",
      "-- -- --\n",
      " Marcia Ball, Orange (Texas), 20 de marzo de 1949, es una cantante y pianista de blues norteamericana  \n",
      "-- -- --\n",
      " Ty Tabor (Pearl, Misisipi; 17 de septiembre de 1961) es un guitarrista estadounidense, popular por pertenecer a la banda de metal progresivo King's X.  \n",
      "-- -- --\n",
      " Aleksandr Márkovich Mélnikov es un pianista ruso nacido en Moscú el 1 de febrero de 1973  \n",
      "-- -- --\n",
      " Paulino Monroy (Celaya, Guanajuato; 26 de agosto de 1985), conocido simplemente como Paulino Monroy, es un cantautor productor y músico mexicano  \n",
      "-- -- --\n",
      " Magdalena Thora, más conocida como Leni Stern (Múnich, 28 de abril de 1952),es una intérprete de ngoni (laúd de siete  \n",
      "-- -- --\n",
      " Ambrosia Parsley (Los Ángeles, California, 23 de junio de 1971) es una compositora y cantante estadounidense de pop-rock alternativo, que hasta 2007 fue cantante líder del grupo Shivaree  \n",
      "-- -- --\n",
      " Dive Anna Pereira Sánchez (Maracaibo, estado Zulia, Venezuela; 20 de mayo de 1972), más conocida como Diveana, es una  \n",
      "-- -- --\n",
      " Juliane Banse (nacida el 10 de julio de 1969 en Tettnang, Alemania) es una soprano alemana conocida sobre todo como cantante de  \n",
      "-- -- --\n",
      " Ulises Bueno (Córdoba, Argentina, 26 de junio de 1985) es un cantante argentino de cuarteto  \n",
      "-- -- --\n",
      " Billy Joe Shaver (Corsicana, 16 de agosto de 1939) es un cantautor estadounidense de música country y americana  \n",
      "-- -- --\n",
      " Adriana Montiel (Buenos Aires, Argentina; 3 de julio de 1929 - Madrid, España; abril de 2011) fue una cantante melódica, tanguera y folklórica argentina  \n",
      "-- -- --\n",
      " Viviane Chidid o Vivian N'Dour es un cantante Senegal de mbalax y R & B nació el 29 de Septembre 1972 en Dakar  \n",
      "-- -- --\n",
      " Jose Antonio Beyloune (Isla de Margarita, Nueva Esparta, Venezuela; 8 de julio de 1985  \n",
      "-- -- --\n",
      " Ricardo Daniel Pegnotti es un compositor, guitarrista y productor musical argentino que ha trabajado con reconocidos artistas como ZAS y Miguel Mateos  \n",
      "-- -- --\n",
      " Paul Haig (4 de septiembre de 1960) es un cantante, compositor y guitarrista escocés, reconocido por haber sido miembro de la banda de punk Josef K.  \n",
      "-- -- --\n",
      " | style=\"margin: 1em 1em 1em 0; background: #f9f9f9; border: 1px #aaa solid; border-collapse: collapse; font-size: 90%;\" class=\"wikitable\" border=\"2\" cellpadding=\"4\" cellspacing=\"0\"  \n",
      "-- -- --\n",
      " Nigel Olsson (nacido el 10 de febrero del 1949) es un baterista de rock inglés mejor conocido por su larga trayectoria acompañando a Elton John  \n",
      "-- -- --\n",
      " Jose Javier Pérez Ramirez (nacido el 11 de abril de 1967), más conocido por su nombre artístico Javier Monthiel,  \n",
      "-- -- --\n",
      " Hildemaro Álvarez Amaya (San Cristóbal, 9 de julio de 1973) es un músico, pianista y productor musical venezolano nominado al Grammy Latino de la Academia Latina de Artes y Ciencias de la Grabación por su labor como productor musical  \n",
      "-- -- --\n",
      " Olivia Stecker Swinney (Toronto, Canadá, 2 de marzo de 1998), más conocida por su nombre artístico  \n",
      "-- -- --\n",
      " Cristina Fernanda Santiagos Ansaldi (Santiago de Chile, 23 de junio), más conocida como Cristina Santiagos, es una cantante y compositora chilena, que tomó reconocimiento gracias a su canción Cara o Sello, la cual fue parte de la banda sonora de la teleserie Preciosas de Canal 13  \n",
      "-- -- --\n",
      " Jennifer Anne Ognibene (Nueva York, Estados Unidos, 4 de diciembre de 1989), conocida por su nombre artístico Jenny O. es una cantautora estadounidense, con sede en Los Ángeles, California  \n",
      "-- -- --\n",
      " Paul Bartzsch (Berlín, Alemania, 24 de mayo de 1989) es un músico alemán, es conocido por haber sido vocalista de la banda de metal industrial We Butter The Bread With Butter  \n",
      "-- -- --\n",
      " Victor Hugo Castro Cisterna es un cantante solista de boleros románticos, integrante del Trio Ilusión, nacido el 18 de noviembre de 1940 en la ciudad de Lanco, décima región en la república de Chile  \n",
      "-- -- --\n",
      " Isabel Rosales Pareja (Guayaquil, 1895 - Quito, 1961), fue una prodigiosa pianista ecuatoriana, cursó sus estudios de música en Francia, los críticos de la época catalogaron sus interpretaciones de impecables y superiores; fue alumna de Alfred Cortot  \n",
      "-- -- --\n",
      " Es una idol y cantante japonesa, conocida por ser miembro del grupo femenino AKB48, donde forma parte del Team 8 y Team A.  \n",
      "-- -- --\n",
      " Josh Kiszka (Frankenmuth, Michigan; 23 de abril de 1996) es un músico, compositor, productor y cantante, conocido mayormente por ser uno de los fundadores y vocalista de la banda Greta Van Fleet  \n",
      "-- -- --\n",
      " Benjamin Griffey (nacido el 25 de septiembre de 1982), más conocido por su nombre artístico como Casper, es un rapero germano-estadounidense firmado por el sello musical alemán Sony Music  \n",
      "-- -- --\n",
      " Raúl Sencillez (Córdoba, Argentina, de 16 de abril de 1982), cuyo verdadero nombre es Diego Jesús Pampiglione, es un músico, cantante y compositor argentino, miembro fundador de la agrupación de rock, cuarteto y ska Los Caligaris, desde su formación en 1997  \n",
      "-- -- --\n",
      " Edith Ortíz (Tlaxiaco, Oaxaca) es una cantante de música tradicional mexicana y de concierto, soprano conocida como \"La Alondra Mixteca\"  \n",
      "-- -- --\n",
      " Jorge Escorial Moreno (Madrid, 1993), popularmente conocido como Recycled J, es un rapero español que se nutre tanto del Reguetón, el R&B, del trap como de la electrónica  \n",
      "-- -- --\n",
      " Siebe Henstra (Oosterbeek, 1958) es un clavecinista, clavicordista y organista holandés  \n",
      "-- -- --\n",
      " (15 de junio de 1995 -) es un ídolo y actor japonés perteneciente al grupo masculino de ídolos de Johnny's Jr. \"SixTONES\"  \n",
      "-- -- --\n",
      " Boyko Nedelchev Ruse, 24 de abril de 1965 es cantante pop búlgaro, compository autor de textos búlgaro de pop, jazz, R&B, funk, soul  \n",
      "-- -- --\n",
      " Christopher Knight (Hertfordshire, 28 de octubre de 1980), conocido por su nombre artístico Kryder, es un DJ y productor discográfico inglés  \n",
      "-- -- --\n",
      " Carmelo Domenic Licciardello (19 de enero de 1956) es un cantante de música cristiana, conocido por su nombre artístico de Carman, además también es compositor, presentador de televisión y evangelista  \n",
      "-- -- --\n",
      " (Los Angeles, Estados Unidos, 21 de octubre de 1995), conocida artísticamente como  \n",
      "-- -- --\n",
      " Jan Lewandowski (nacido en 1941, Bydgoszcz, Polonia) conocido profesionalmente como Jan Lewan, es un compositor polaco-estadounidense y líder de una banda de polka  \n",
      "-- -- --\n",
      " Johnny Prez (o J Prez como se llama a sí mismo a menudo) (nacido el 4 de diciembre de 1974) es un artista de música reggaetón de Río Piedras, Puerto Rico  \n",
      "-- -- --\n",
      " Cléa Vincent (París, 1985) es una cantautora pop francesa de formación pianista clásica  \n",
      "-- -- --\n",
      " Kevin Mark DuBrow (29 de octubre de 1955-25 de noviembre de 2007) fue un cantante estadounidense, más conocido por haber sido el cantante y líder de la influyente banda de heavy metal Quiet Riot  \n",
      "-- -- --\n",
      " Banco de Gaia es el nombre artístico del músico y productor inglés Toby Marks (Londres, 1964)  \n",
      "-- -- --\n",
      " Nino Galissa, de nombre Bubacar Galissa Kouyaté (Gabu), Región de Gabu, Guinea Bissau, es un cantautor en lengua mandinga, Crioulo y Castellano entre otros, que vive entre Guinea Bissau y Barcelona  \n",
      "-- -- --\n",
      " Fernando Huesca (n. 1 de julio) es unactor y cantante mexicano, originario de Martínez de la Torre, Veracruz y descendiente del actor, músico y compositor de la Época de Oro del cine mexicano don Andrés Huesca  \n",
      "-- -- --\n",
      " Marcia Barrett (nacida el 14 de octubre de 1948, Saint Catherine, Jamaica) es una bailarina, cantante y compositora jamaiquina, integrante de la formación original del grupo Boney M.  \n",
      "-- -- --\n",
      " Fitri Dian Puspita (n. 29 de mayo de 1987, Banyuwangi), conocida artíticamente como Fitri Karlina o Fitri Carlina, es una cantante dangdut indonesia  \n",
      "-- -- --\n",
      " Lee Ho Seok (Anyang, 1 de marzo de 1993), más conocido por su nombre artístico Won Ho, es un cantante, compositor y bailarín surcoreano, solista, miembro de la banda de K-pop Monsta X.  \n",
      "-- -- --\n",
      " Oliver James Purvis, (Newcastle, Inglaterra, 6 de octubre de 1993) mas conocido como Olly James, es un DJ y productor británico orientado al Electro House, Progressive House y Big Room House  \n",
      "-- -- --\n",
      " Mick Kastenholt, (Estocolmo, Suecia, 30 de enero de 1989), mas conocido como KAAZE es un DJ y productor sueco orientando al Electro House, Progressive House  \n",
      "-- -- --\n",
      " (吉村弘  \n",
      "-- -- --\n",
      " John Dirne (Ámsterdam, Países Bajos, 14 de septiembre de 1981), más conocido por su nombre artístico John Christian, es un DJ y productor holandés orientado al Electro House  \n",
      "-- -- --\n",
      " Nicole Ansperger (1981, Stuttgart, Alemania) es una violinista alemana, conocida por tocar en la banda de folk metal Eluveitie entre (2013-2015, 2016-presente)  \n"
     ]
    }
   ],
   "source": [
    "# Split into sentences\n",
    "\n",
    "alphabets= \"([A-Za-z])\"\n",
    "prefixes = \"(Mr|St|Mrs|Ms|Dr|EE|UU|\\Wn|ib)[.]\"\n",
    "suffixes = \"(Inc|Ltd|Jr|Sr|Co)\"\n",
    "starters = \"(Mr|Mrs|Ms|Dr|He\\s|She\\s|It\\s|They\\s|Their\\s|Our\\s|We\\s|But\\s|However\\s|That\\s|This\\s|Wherever)\"\n",
    "acronyms = \"([A-Z][.][A-Z][.](?:[A-Z][.])?)\"\n",
    "websites = \"[.](com|net|org|io|gov)\"\n",
    "\n",
    "def split_into_sentences(text:str, ind):\n",
    "    text = \" \" + text + \"  \"\n",
    "    text = text.replace(\"\\n\",\" \")\n",
    "    text = re.sub(prefixes,\"\\\\1<prd>\",text)\n",
    "    text = re.sub(websites,\"<prd>\\\\1\",text)\n",
    "    if \"Ph.D\" in text: text = text.replace(\"Ph.D.\",\"Ph<prd>D<prd>\")\n",
    "    text = re.sub(\"\\s\" + alphabets + \"[.] \",\" \\\\1<prd> \",text)\n",
    "    text = re.sub(acronyms+\" \"+starters,\"\\\\1<stop> \\\\2\",text)\n",
    "    text = re.sub(alphabets + \"[.]\" + alphabets + \"[.]\" + alphabets + \"[.]\",\"\\\\1<prd>\\\\2<prd>\\\\3<prd>\",text)\n",
    "    text = re.sub(alphabets + \"[.]\" + alphabets + \"[.]\",\"\\\\1<prd>\\\\2<prd>\",text)\n",
    "    text = re.sub(\" \"+suffixes+\"[.] \"+starters,\" \\\\1<stop> \\\\2\",text)\n",
    "    text = re.sub(\" \"+suffixes+\"[.]\",\" \\\\1<prd>\",text)\n",
    "    text = re.sub(\" \" + alphabets + \"[.]\",\" \\\\1<prd>\",text)\n",
    "    if \"”\" in text: text = text.replace(\".”\",\"”.\")\n",
    "    if \"\\\"\" in text: text = text.replace(\".\\\"\",\"\\\".\")\n",
    "    if \"!\" in text: text = text.replace(\"!\\\"\",\"\\\"!\")\n",
    "    if \"?\" in text: text = text.replace(\"?\\\"\",\"\\\"?\")\n",
    "    text = text.replace(\".\",\".<stop>\")\n",
    "    text = text.replace(\"?\",\"?<stop>\")\n",
    "    text = text.replace(\"!\",\"!<stop>\")\n",
    "    text = text.replace(\"<prd>\",\".\")\n",
    "    sentences = text.split(\"<stop>\")\n",
    "    sentences = sentences[:-1]\n",
    "    sentences = [s.strip() for s in sentences]\n",
    "    \n",
    "    if ind==0:\n",
    "        if len(sentences)==0:\n",
    "            print('-- -- --')\n",
    "            print(text)\n",
    "            return text\n",
    "        else:\n",
    "            return sentences[ind]\n",
    "        \n",
    "    elif ind==1:\n",
    "        if len(sentences)<2:\n",
    "            return ''\n",
    "        else:\n",
    "            return sentences[ind]\n",
    "        \n",
    "dataset_target['first_sentence'] = dataset_target['text'].apply(split_into_sentences, ind=0)\n",
    "dataset_target['second_sentence'] = dataset_target['text'].apply(split_into_sentences, ind=1)"
   ]
  },
  {
   "cell_type": "code",
   "execution_count": 24,
   "metadata": {
    "ExecuteTime": {
     "end_time": "2020-12-25T17:47:56.014674Z",
     "start_time": "2020-12-25T17:47:56.010806Z"
    },
    "scrolled": true
   },
   "outputs": [],
   "source": [
    "# For testing\n",
    "test = False\n",
    "\n",
    "if test:\n",
    "    for ind, row in dataset_target.iterrows():\n",
    "        if ind<1200:\n",
    "            continue\n",
    "        if ind>1260:\n",
    "            break\n",
    "        else:\n",
    "            print(row['_id_'])\n",
    "            print(row['first_sentence'])\n",
    "            print('----')\n",
    "            print(row['second_sentence'])\n",
    "            print('----')\n",
    "            print('')\n",
    "            print('****** ****** ******')\n",
    "\n",
    "        if ind==1100:\n",
    "            print(row['text'])\n",
    "            print('- - - ')"
   ]
  },
  {
   "cell_type": "code",
   "execution_count": 25,
   "metadata": {
    "ExecuteTime": {
     "end_time": "2020-12-25T17:47:56.147782Z",
     "start_time": "2020-12-25T17:47:56.015784Z"
    }
   },
   "outputs": [],
   "source": [
    "dataset_target['full_text'] = (dataset_target['first_sentence']\n",
    "                                            + ' '\n",
    "                                            + dataset_target['second_sentence']).str.strip()\n",
    "\n",
    "dataset_target = dataset_target.filter(['_id_', 'first_sentence', 'full_text'])\n",
    "dataset = dataset.drop(columns=['text', 'text_II', 'text_v2'])\n",
    "dataset = dataset.merge(dataset_target, 'left', '_id_')"
   ]
  },
  {
   "cell_type": "code",
   "execution_count": 26,
   "metadata": {
    "ExecuteTime": {
     "end_time": "2020-12-25T17:47:56.357752Z",
     "start_time": "2020-12-25T17:47:56.149064Z"
    },
    "scrolled": true
   },
   "outputs": [
    {
     "data": {
      "text/plain": [
       "(219416, 7)"
      ]
     },
     "execution_count": 26,
     "metadata": {},
     "output_type": "execute_result"
    }
   ],
   "source": [
    "dataset = dataset.drop_duplicates(['_id_', 'variable', 'value'])\n",
    "dataset.shape"
   ]
  },
  {
   "cell_type": "code",
   "execution_count": 27,
   "metadata": {
    "ExecuteTime": {
     "end_time": "2020-12-25T17:47:56.400905Z",
     "start_time": "2020-12-25T17:47:56.358965Z"
    }
   },
   "outputs": [
    {
     "data": {
      "text/plain": [
       "(218383, 7)"
      ]
     },
     "execution_count": 27,
     "metadata": {},
     "output_type": "execute_result"
    }
   ],
   "source": [
    "to_remove = ['6984853', '8578814', '1008118', '6984853', '8578814', '90526',\n",
    "             '280108', '7329161', '4781182', '459452', '466539', '523917',\n",
    "             '5415059', '8534109', '3747486', '6570541', '596855', '309896']\n",
    "dataset = dataset[~dataset['_id_'].isin(to_remove)]\n",
    "dataset.shape"
   ]
  },
  {
   "cell_type": "code",
   "execution_count": 28,
   "metadata": {
    "ExecuteTime": {
     "end_time": "2020-12-25T17:47:56.648227Z",
     "start_time": "2020-12-25T17:47:56.402062Z"
    },
    "scrolled": true
   },
   "outputs": [
    {
     "data": {
      "text/plain": [
       "(216518, 7)"
      ]
     },
     "execution_count": 28,
     "metadata": {},
     "output_type": "execute_result"
    }
   ],
   "source": [
    "dataset['variable2'] = dataset['variable']\n",
    "dataset['variable2'] = np.where(dataset['variable2']=='nombre nacimiento',\n",
    "                                     'nombre artistico', dataset['variable2'])\n",
    "\n",
    "dataset = dataset.drop_duplicates(['_id_', 'variable2', 'value'])\n",
    "dataset.drop(columns=['variable2'], inplace=True)\n",
    "dataset.shape"
   ]
  },
  {
   "cell_type": "markdown",
   "metadata": {},
   "source": [
    "## Filter by length"
   ]
  },
  {
   "cell_type": "code",
   "execution_count": 29,
   "metadata": {
    "ExecuteTime": {
     "end_time": "2020-12-25T17:47:56.651637Z",
     "start_time": "2020-12-25T17:47:56.649430Z"
    }
   },
   "outputs": [],
   "source": [
    "def get_length(text: str):\n",
    "    try:\n",
    "        return len(text)\n",
    "    except:\n",
    "        return 0"
   ]
  },
  {
   "cell_type": "code",
   "execution_count": 30,
   "metadata": {
    "ExecuteTime": {
     "end_time": "2020-12-25T17:47:56.767326Z",
     "start_time": "2020-12-25T17:47:56.652787Z"
    }
   },
   "outputs": [],
   "source": [
    "dataset['length'] = dataset['full_text'].apply(get_length)\n",
    "dataset = dataset[dataset['length']<=512]\n",
    "dataset.drop(columns=['length'], inplace=True)"
   ]
  },
  {
   "cell_type": "markdown",
   "metadata": {},
   "source": [
    "## Drop some particular attributes"
   ]
  },
  {
   "cell_type": "code",
   "execution_count": 31,
   "metadata": {
    "ExecuteTime": {
     "end_time": "2020-12-25T17:47:56.799713Z",
     "start_time": "2020-12-25T17:47:56.768629Z"
    }
   },
   "outputs": [
    {
     "data": {
      "text/html": [
       "<div>\n",
       "<style scoped>\n",
       "    .dataframe tbody tr th:only-of-type {\n",
       "        vertical-align: middle;\n",
       "    }\n",
       "\n",
       "    .dataframe tbody tr th {\n",
       "        vertical-align: top;\n",
       "    }\n",
       "\n",
       "    .dataframe thead th {\n",
       "        text-align: right;\n",
       "    }\n",
       "</style>\n",
       "<table border=\"1\" class=\"dataframe\">\n",
       "  <thead>\n",
       "    <tr style=\"text-align: right;\">\n",
       "      <th></th>\n",
       "      <th>_id_</th>\n",
       "      <th>_titulo_</th>\n",
       "      <th>_url_</th>\n",
       "      <th>variable</th>\n",
       "      <th>value</th>\n",
       "      <th>first_sentence</th>\n",
       "      <th>full_text</th>\n",
       "    </tr>\n",
       "  </thead>\n",
       "  <tbody>\n",
       "    <tr>\n",
       "      <td>15327</td>\n",
       "      <td>5783805</td>\n",
       "      <td>Adryana Ribeiro</td>\n",
       "      <td>https://es.wikipedia.org/wiki?curid=5783805</td>\n",
       "      <td>nombre artistico</td>\n",
       "      <td>Adryana Ribeiro</td>\n",
       "      <td>Adryana Ribeiro es el sobrenombre de Adryana d...</td>\n",
       "      <td>Adryana Ribeiro es el sobrenombre de Adryana d...</td>\n",
       "    </tr>\n",
       "  </tbody>\n",
       "</table>\n",
       "</div>"
      ],
      "text/plain": [
       "          _id_         _titulo_                                        _url_  \\\n",
       "15327  5783805  Adryana Ribeiro  https://es.wikipedia.org/wiki?curid=5783805   \n",
       "\n",
       "               variable            value  \\\n",
       "15327  nombre artistico  Adryana Ribeiro   \n",
       "\n",
       "                                          first_sentence  \\\n",
       "15327  Adryana Ribeiro es el sobrenombre de Adryana d...   \n",
       "\n",
       "                                               full_text  \n",
       "15327  Adryana Ribeiro es el sobrenombre de Adryana d...  "
      ]
     },
     "execution_count": 31,
     "metadata": {},
     "output_type": "execute_result"
    }
   ],
   "source": [
    "dataset[(dataset['value']=='Adryana Ribeiro')].head()"
   ]
  },
  {
   "cell_type": "code",
   "execution_count": 32,
   "metadata": {
    "ExecuteTime": {
     "end_time": "2020-12-25T17:47:57.605984Z",
     "start_time": "2020-12-25T17:47:56.800882Z"
    }
   },
   "outputs": [],
   "source": [
    "variables_to_drop = ['sello', 'grupo']\n",
    "mask = (dataset['_titulo_']=='Tech N9ne') & (dataset['variable'].isin(variables_to_drop))\n",
    "dataset = dataset[~mask]\n",
    "\n",
    "variables_to_drop = ['grupo']\n",
    "mask = (dataset['_titulo_']=='Steve Aoki') & (dataset['variable'].isin(variables_to_drop))\n",
    "dataset = dataset[~mask]\n",
    "mask = (dataset['_titulo_']=='Marc Anthony') & (dataset['variable'].isin(variables_to_drop))\n",
    "dataset = dataset[~mask]\n",
    "mask = (dataset['_titulo_']=='David Guetta') & (dataset['variable'].isin(variables_to_drop))\n",
    "dataset = dataset[~mask]\n",
    "mask = (dataset['_titulo_']=='Snoop Dogg') & (dataset['variable'].isin(variables_to_drop))\n",
    "dataset = dataset[~mask]\n",
    "mask = (dataset['_titulo_']=='Miki González') & (dataset['variable'].isin(variables_to_drop))\n",
    "dataset = dataset[~mask]\n",
    "mask = (dataset['_titulo_']=='Young Thug') & (dataset['variable'].isin(variables_to_drop))\n",
    "dataset = dataset[~mask]\n",
    "mask = (dataset['_titulo_']=='Swizz Beatz') & (dataset['variable'].isin(variables_to_drop))\n",
    "dataset = dataset[~mask]\n",
    "mask = (dataset['_titulo_']=='Julieta Venegas') & (dataset['variable'].isin(variables_to_drop))\n",
    "dataset = dataset[~mask]\n",
    "mask = (dataset['_titulo_']=='Héctor Lavoe') & (dataset['variable'].isin(variables_to_drop))\n",
    "dataset = dataset[~mask]\n",
    "mask = (dataset['_titulo_']=='Gustavo Cerati') & (dataset['variable'].isin(variables_to_drop)) & (dataset['value']!='Soda Stereo')\n",
    "dataset = dataset[~mask]\n",
    "mask = (dataset['_titulo_']=='Enrique Mateu') & (dataset['variable'].isin(variables_to_drop))\n",
    "dataset = dataset[~mask]\n",
    "mask = (dataset['_titulo_']=='Wisin') & (dataset['variable'].isin(variables_to_drop))\n",
    "dataset = dataset[~mask]\n",
    "mask = (dataset['_titulo_']=='Diplo') & (dataset['variable'].isin(variables_to_drop))\n",
    "dataset = dataset[~mask]\n",
    "mask = (dataset['_titulo_']=='Phil Collins') & (dataset['variable'].isin(variables_to_drop))\n",
    "dataset = dataset[~mask]\n",
    "mask = (dataset['_titulo_']=='Maysa') & (dataset['variable'].isin(variables_to_drop))\n",
    "dataset = dataset[~mask]\n",
    "mask = (dataset['_titulo_']=='Adryana Ribeiro') & (dataset['variable'].isin(variables_to_drop))\n",
    "dataset = dataset[~mask]\n",
    "\n",
    "variables_to_drop = ['genero']\n",
    "mask = (dataset['_titulo_']=='Fergie') & (dataset['variable'].isin(variables_to_drop))\n",
    "dataset = dataset[~mask]\n",
    "\n",
    "variables_to_drop = ['sello', 'sello periodo', 'genero']\n",
    "mask = (dataset['_titulo_']=='Marion Elise Raven') & (dataset['variable'].isin(variables_to_drop))\n",
    "dataset = dataset[~mask]\n",
    "\n",
    "variables_to_drop = ['sello', 'sello periodo']\n",
    "mask = (dataset['_titulo_']=='Brian Jones (músico)') & (dataset['variable'].isin(variables_to_drop))\n",
    "dataset = dataset[~mask]"
   ]
  },
  {
   "cell_type": "markdown",
   "metadata": {},
   "source": [
    "## Filter by # of attrributes"
   ]
  },
  {
   "cell_type": "code",
   "execution_count": 33,
   "metadata": {
    "ExecuteTime": {
     "end_time": "2020-12-25T17:47:57.838832Z",
     "start_time": "2020-12-25T17:47:57.607277Z"
    }
   },
   "outputs": [
    {
     "name": "stdout",
     "output_type": "stream",
     "text": [
      "212940\n",
      "212895\n",
      "212817\n",
      "212592\n"
     ]
    }
   ],
   "source": [
    "df_attr_per_artist = pd.DataFrame(dataset.groupby('_id_').count()['_titulo_']).rename(columns={'_titulo_': '#_attr'})\n",
    "\n",
    "print(dataset.shape[0])\n",
    "for i in range(1,4):\n",
    "    list_id = df_attr_per_artist[df_attr_per_artist['#_attr']==i].reset_index()['_id_'].tolist()\n",
    "    _id_list = dataset['_id_'].isin(list_id)\n",
    "    dataset = dataset[~_id_list]\n",
    "    print(dataset.shape[0])"
   ]
  },
  {
   "cell_type": "markdown",
   "metadata": {},
   "source": [
    "## Save dataset"
   ]
  },
  {
   "cell_type": "code",
   "execution_count": 34,
   "metadata": {
    "ExecuteTime": {
     "end_time": "2020-12-25T17:47:58.096385Z",
     "start_time": "2020-12-25T17:47:57.840280Z"
    }
   },
   "outputs": [],
   "source": [
    "dataset_short = dataset.filter(['_id_', '_titulo_', '_url_', 'variable', 'value', 'first_sentence']).reset_index(drop=True)\n",
    "dataset_short = dataset_short.rename(columns={'first_sentence': 'text'})\n",
    "pickle.dump(dataset_short, open( \"../Data/df_wikimusica_short.p\", \"wb\"))"
   ]
  },
  {
   "cell_type": "code",
   "execution_count": 35,
   "metadata": {
    "ExecuteTime": {
     "end_time": "2020-12-25T17:47:58.366055Z",
     "start_time": "2020-12-25T17:47:58.097753Z"
    }
   },
   "outputs": [],
   "source": [
    "df_wikimusica_long = dataset.filter(['_id_', '_titulo_', '_url_', 'variable', 'value', 'full_text']).reset_index(drop=True)\n",
    "df_wikimusica_long = df_wikimusica_long.rename(columns={'full_text': 'text'})\n",
    "pickle.dump(df_wikimusica_long, open( \"../Data/df_wikimusica_long.p\", \"wb\"))"
   ]
  }
 ],
 "metadata": {
  "kernelspec": {
   "display_name": "Python 3",
   "language": "python",
   "name": "python3"
  },
  "language_info": {
   "codemirror_mode": {
    "name": "ipython",
    "version": 3
   },
   "file_extension": ".py",
   "mimetype": "text/x-python",
   "name": "python",
   "nbconvert_exporter": "python",
   "pygments_lexer": "ipython3",
   "version": "3.7.4"
  },
  "toc": {
   "base_numbering": 1,
   "nav_menu": {},
   "number_sections": true,
   "sideBar": true,
   "skip_h1_title": false,
   "title_cell": "Table of Contents",
   "title_sidebar": "Contents",
   "toc_cell": false,
   "toc_position": {},
   "toc_section_display": true,
   "toc_window_display": false
  }
 },
 "nbformat": 4,
 "nbformat_minor": 2
}
